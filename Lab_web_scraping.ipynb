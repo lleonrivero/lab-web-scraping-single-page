{
 "cells": [
  {
   "cell_type": "markdown",
   "id": "80b51585",
   "metadata": {},
   "source": [
    "# WEB SCRAPING LAB"
   ]
  },
  {
   "cell_type": "markdown",
   "id": "84dfd0a1",
   "metadata": {},
   "source": [
    "# Activity 1: MVP"
   ]
  },
  {
   "cell_type": "markdown",
   "id": "9d89bfbe",
   "metadata": {},
   "source": [
    "## Importing libraries"
   ]
  },
  {
   "cell_type": "code",
   "execution_count": 60,
   "id": "e0b554a1",
   "metadata": {},
   "outputs": [],
   "source": [
    "from bs4 import BeautifulSoup\n",
    "import requests # Allows us to access information on any webpage\n",
    "import pandas as pd"
   ]
  },
  {
   "cell_type": "markdown",
   "id": "53db8425",
   "metadata": {},
   "source": [
    "## Storing and reading webpage"
   ]
  },
  {
   "cell_type": "code",
   "execution_count": 61,
   "id": "147390e3",
   "metadata": {},
   "outputs": [],
   "source": [
    "# Using the iTunes Top 100 Songs Chart\n",
    "\n",
    "url = \"https://www.popvortex.com/music/charts/top-100-songs.php\""
   ]
  },
  {
   "cell_type": "code",
   "execution_count": 62,
   "id": "d4752790",
   "metadata": {},
   "outputs": [
    {
     "data": {
      "text/plain": [
       "200"
      ]
     },
     "execution_count": 62,
     "metadata": {},
     "output_type": "execute_result"
    }
   ],
   "source": [
    "# Checking the url response\n",
    "\n",
    "response = requests.get(url)\n",
    "response.status_code # 200 status code means OK!"
   ]
  },
  {
   "cell_type": "code",
   "execution_count": 63,
   "id": "80fb823c",
   "metadata": {},
   "outputs": [],
   "source": [
    "soup = BeautifulSoup(response.content, \"html.parser\")"
   ]
  },
  {
   "cell_type": "code",
   "execution_count": 8,
   "id": "5dd447c5",
   "metadata": {},
   "outputs": [],
   "source": [
    "#print(soup.prettify())"
   ]
  },
  {
   "cell_type": "markdown",
   "id": "2d7e7c6e",
   "metadata": {},
   "source": [
    "## Extracting information"
   ]
  },
  {
   "cell_type": "code",
   "execution_count": 64,
   "id": "d716140f",
   "metadata": {},
   "outputs": [],
   "source": [
    "# Getting the artist list\n",
    "artist = []\n",
    "\n",
    "for i in soup.select('.artist'):\n",
    "    artist.append(i.get_text())"
   ]
  },
  {
   "cell_type": "code",
   "execution_count": 65,
   "id": "8628a97c",
   "metadata": {},
   "outputs": [],
   "source": [
    "# Getting the song list\n",
    "title = []\n",
    "\n",
    "for i in soup.select('.title'):\n",
    "    title.append(i.get_text())"
   ]
  },
  {
   "cell_type": "code",
   "execution_count": 66,
   "id": "5c17ad9c",
   "metadata": {},
   "outputs": [
    {
     "data": {
      "text/html": [
       "<div>\n",
       "<style scoped>\n",
       "    .dataframe tbody tr th:only-of-type {\n",
       "        vertical-align: middle;\n",
       "    }\n",
       "\n",
       "    .dataframe tbody tr th {\n",
       "        vertical-align: top;\n",
       "    }\n",
       "\n",
       "    .dataframe thead th {\n",
       "        text-align: right;\n",
       "    }\n",
       "</style>\n",
       "<table border=\"1\" class=\"dataframe\">\n",
       "  <thead>\n",
       "    <tr style=\"text-align: right;\">\n",
       "      <th></th>\n",
       "      <th>artist</th>\n",
       "      <th>title</th>\n",
       "    </tr>\n",
       "  </thead>\n",
       "  <tbody>\n",
       "    <tr>\n",
       "      <th>0</th>\n",
       "      <td>Sam Smith &amp; Kim Petras</td>\n",
       "      <td>Unholy</td>\n",
       "    </tr>\n",
       "    <tr>\n",
       "      <th>1</th>\n",
       "      <td>Transformation Worship</td>\n",
       "      <td>Eagle (feat. KB)</td>\n",
       "    </tr>\n",
       "    <tr>\n",
       "      <th>2</th>\n",
       "      <td>David Guetta &amp; Bebe Rexha</td>\n",
       "      <td>I'm Good (Blue)</td>\n",
       "    </tr>\n",
       "    <tr>\n",
       "      <th>3</th>\n",
       "      <td>Fleetwood Mac</td>\n",
       "      <td>Everywhere</td>\n",
       "    </tr>\n",
       "    <tr>\n",
       "      <th>4</th>\n",
       "      <td>HARDY &amp; Lainey Wilson</td>\n",
       "      <td>wait in the truck</td>\n",
       "    </tr>\n",
       "    <tr>\n",
       "      <th>...</th>\n",
       "      <td>...</td>\n",
       "      <td>...</td>\n",
       "    </tr>\n",
       "    <tr>\n",
       "      <th>95</th>\n",
       "      <td>Auli'i Cravalho</td>\n",
       "      <td>How Far I'll Go</td>\n",
       "    </tr>\n",
       "    <tr>\n",
       "      <th>96</th>\n",
       "      <td>Bette Midler, Sarah Jessica Parker &amp; Kathy Najimy</td>\n",
       "      <td>One Way or Another (Hocus Pocus 2 Version)</td>\n",
       "    </tr>\n",
       "    <tr>\n",
       "      <th>97</th>\n",
       "      <td>Blasterjaxx &amp; Timmy Trumpet</td>\n",
       "      <td>Narco</td>\n",
       "    </tr>\n",
       "    <tr>\n",
       "      <th>98</th>\n",
       "      <td>Thomas Rhett</td>\n",
       "      <td>Half Of Me (feat. Riley Green)</td>\n",
       "    </tr>\n",
       "    <tr>\n",
       "      <th>99</th>\n",
       "      <td>J.Fla</td>\n",
       "      <td>Bedroom Singer</td>\n",
       "    </tr>\n",
       "  </tbody>\n",
       "</table>\n",
       "<p>100 rows × 2 columns</p>\n",
       "</div>"
      ],
      "text/plain": [
       "                                               artist  \\\n",
       "0                              Sam Smith & Kim Petras   \n",
       "1                              Transformation Worship   \n",
       "2                           David Guetta & Bebe Rexha   \n",
       "3                                       Fleetwood Mac   \n",
       "4                               HARDY & Lainey Wilson   \n",
       "..                                                ...   \n",
       "95                                    Auli'i Cravalho   \n",
       "96  Bette Midler, Sarah Jessica Parker & Kathy Najimy   \n",
       "97                        Blasterjaxx & Timmy Trumpet   \n",
       "98                                       Thomas Rhett   \n",
       "99                                              J.Fla   \n",
       "\n",
       "                                         title  \n",
       "0                                       Unholy  \n",
       "1                             Eagle (feat. KB)  \n",
       "2                              I'm Good (Blue)  \n",
       "3                                   Everywhere  \n",
       "4                            wait in the truck  \n",
       "..                                         ...  \n",
       "95                             How Far I'll Go  \n",
       "96  One Way or Another (Hocus Pocus 2 Version)  \n",
       "97                                       Narco  \n",
       "98              Half Of Me (feat. Riley Green)  \n",
       "99                              Bedroom Singer  \n",
       "\n",
       "[100 rows x 2 columns]"
      ]
     },
     "execution_count": 66,
     "metadata": {},
     "output_type": "execute_result"
    }
   ],
   "source": [
    "# Merging both lists onto a DataFrame\n",
    "artist_song = pd.DataFrame({\"artist\":artist,\n",
    "                       \"title\":title\n",
    "                      })\n",
    "artist_song"
   ]
  },
  {
   "cell_type": "markdown",
   "id": "2ec93d9b",
   "metadata": {},
   "source": [
    "# Activity 2: expanding the project"
   ]
  },
  {
   "cell_type": "markdown",
   "id": "e1a33437",
   "metadata": {},
   "source": [
    "Pulling out all rock songs between 2010 and 2019 from playback.fm."
   ]
  },
  {
   "cell_type": "code",
   "execution_count": 67,
   "id": "535aa9e6",
   "metadata": {},
   "outputs": [],
   "source": [
    "url1 = 'https://playback.fm/charts/rock/2010'"
   ]
  },
  {
   "cell_type": "code",
   "execution_count": 68,
   "id": "039d1228",
   "metadata": {},
   "outputs": [
    {
     "data": {
      "text/plain": [
       "200"
      ]
     },
     "execution_count": 68,
     "metadata": {},
     "output_type": "execute_result"
    }
   ],
   "source": [
    "# Checking the url response\n",
    "\n",
    "response = requests.get(url1)\n",
    "response.status_code # 200 status code means OK!"
   ]
  },
  {
   "cell_type": "code",
   "execution_count": 70,
   "id": "b52d5083",
   "metadata": {},
   "outputs": [],
   "source": [
    "soup1 = BeautifulSoup(response.content, \"html.parser\")"
   ]
  },
  {
   "cell_type": "code",
   "execution_count": 71,
   "id": "c2f94c20",
   "metadata": {},
   "outputs": [],
   "source": [
    "#print(soup1.prettify())"
   ]
  },
  {
   "cell_type": "code",
   "execution_count": 72,
   "id": "1d3cd6f8",
   "metadata": {},
   "outputs": [
    {
     "name": "stdout",
     "output_type": "stream",
     "text": [
      "https://playback.fm/charts/rock/2010\n",
      "https://playback.fm/charts/rock/2011\n",
      "https://playback.fm/charts/rock/2012\n",
      "https://playback.fm/charts/rock/2013\n",
      "https://playback.fm/charts/rock/2014\n",
      "https://playback.fm/charts/rock/2015\n",
      "https://playback.fm/charts/rock/2016\n",
      "https://playback.fm/charts/rock/2017\n",
      "https://playback.fm/charts/rock/2018\n",
      "https://playback.fm/charts/rock/2019\n"
     ]
    }
   ],
   "source": [
    "iterations = range(2010, 2020, 1)\n",
    "#[i for i in iterations]\n",
    "for i in iterations:\n",
    "    start_at= str(i)\n",
    "    url1 = 'https://playback.fm/charts/rock/' + start_at\n",
    "    print(url1)"
   ]
  },
  {
   "cell_type": "code",
   "execution_count": 73,
   "id": "203955c3",
   "metadata": {},
   "outputs": [],
   "source": [
    "import random\n",
    "from time import sleep\n",
    "from random import randint"
   ]
  },
  {
   "cell_type": "code",
   "execution_count": 74,
   "id": "30194852",
   "metadata": {
    "scrolled": true
   },
   "outputs": [
    {
     "name": "stdout",
     "output_type": "stream",
     "text": [
      "Status code: 200\n",
      "I will sleep for 4 second/s.\n",
      "Status code: 200\n",
      "I will sleep for 3 second/s.\n",
      "Status code: 200\n",
      "I will sleep for 3 second/s.\n",
      "Status code: 200\n",
      "I will sleep for 4 second/s.\n",
      "Status code: 200\n",
      "I will sleep for 2 second/s.\n",
      "Status code: 200\n",
      "I will sleep for 4 second/s.\n",
      "Status code: 200\n",
      "I will sleep for 1 second/s.\n",
      "Status code: 200\n",
      "I will sleep for 2 second/s.\n",
      "Status code: 200\n",
      "I will sleep for 1 second/s.\n",
      "Status code: 200\n",
      "I will sleep for 4 second/s.\n"
     ]
    }
   ],
   "source": [
    "pages = []\n",
    "\n",
    "for i in iterations:\n",
    "    # assemble the url:\n",
    "    start_at= str(i)\n",
    "    url1 = 'https://playback.fm/charts/rock/' + start_at\n",
    "\n",
    "    # download html with a get request:\n",
    "    response = requests.get(url1)\n",
    "    #response = requests.get(url, headers = {\"Accept-Language\": \"en-US\"})\n",
    "\n",
    "    # monitor the process by printing the status code\n",
    "    print(\"Status code: \" + str(response.status_code))\n",
    "\n",
    "    # store response into \"pages\" list\n",
    "    pages.append(response)\n",
    "\n",
    "    # respectful nap:\n",
    "    wait_time = randint(1,4)\n",
    "    print(\"I will sleep for \" + str(wait_time) + \" second/s.\")\n",
    "    sleep(wait_time)"
   ]
  },
  {
   "cell_type": "code",
   "execution_count": 75,
   "id": "08ebb7f8",
   "metadata": {},
   "outputs": [],
   "source": [
    "artist1 = []\n",
    "\n",
    "for i in range(len(pages)):\n",
    "    parsed = BeautifulSoup(pages[i].content, \"html.parser\")\n",
    "    artist_html = parsed.select('td:nth-child(2) > a')\n",
    "    for i in soup1.select('td:nth-child(2) > a'):\n",
    "        artist1.append(i.get_text())"
   ]
  },
  {
   "cell_type": "code",
   "execution_count": 76,
   "id": "bd949613",
   "metadata": {},
   "outputs": [],
   "source": [
    "title1 = []\n",
    "\n",
    "for i in range(len(pages)):\n",
    "    parsed = BeautifulSoup(pages[i].content, \"html.parser\")\n",
    "    title_html = parsed.select('td.mobile-hide > a > span.song')\n",
    "    for i in soup1.select('td.mobile-hide > a > span.song'):\n",
    "        title1.append(i.get_text())"
   ]
  },
  {
   "cell_type": "code",
   "execution_count": 77,
   "id": "d5aa1bba",
   "metadata": {},
   "outputs": [
    {
     "data": {
      "text/html": [
       "<div>\n",
       "<style scoped>\n",
       "    .dataframe tbody tr th:only-of-type {\n",
       "        vertical-align: middle;\n",
       "    }\n",
       "\n",
       "    .dataframe tbody tr th {\n",
       "        vertical-align: top;\n",
       "    }\n",
       "\n",
       "    .dataframe thead th {\n",
       "        text-align: right;\n",
       "    }\n",
       "</style>\n",
       "<table border=\"1\" class=\"dataframe\">\n",
       "  <thead>\n",
       "    <tr style=\"text-align: right;\">\n",
       "      <th></th>\n",
       "      <th>artist</th>\n",
       "      <th>title</th>\n",
       "    </tr>\n",
       "  </thead>\n",
       "  <tbody>\n",
       "    <tr>\n",
       "      <th>0</th>\n",
       "      <td>\\nSaving Abel\\n</td>\n",
       "      <td>The Sex Is Good</td>\n",
       "    </tr>\n",
       "    <tr>\n",
       "      <th>1</th>\n",
       "      <td>\\nDisturbed\\n</td>\n",
       "      <td>Another Way to Die</td>\n",
       "    </tr>\n",
       "    <tr>\n",
       "      <th>2</th>\n",
       "      <td>\\nMuse\\n</td>\n",
       "      <td>Resistance</td>\n",
       "    </tr>\n",
       "    <tr>\n",
       "      <th>3</th>\n",
       "      <td>\\nLinkin Park\\n</td>\n",
       "      <td>Waiting for the End</td>\n",
       "    </tr>\n",
       "    <tr>\n",
       "      <th>4</th>\n",
       "      <td>\\nThe Dirty Heads\\n</td>\n",
       "      <td>Lay Me Down</td>\n",
       "    </tr>\n",
       "    <tr>\n",
       "      <th>...</th>\n",
       "      <td>...</td>\n",
       "      <td>...</td>\n",
       "    </tr>\n",
       "    <tr>\n",
       "      <th>995</th>\n",
       "      <td>\\nTheory Of A Deadman\\n</td>\n",
       "      <td>Little Smirk</td>\n",
       "    </tr>\n",
       "    <tr>\n",
       "      <th>996</th>\n",
       "      <td>\\nMetric\\n</td>\n",
       "      <td>Gold Guns Girls</td>\n",
       "    </tr>\n",
       "    <tr>\n",
       "      <th>997</th>\n",
       "      <td>\\nTrapt\\n</td>\n",
       "      <td>Sound Off</td>\n",
       "    </tr>\n",
       "    <tr>\n",
       "      <th>998</th>\n",
       "      <td>\\nAgainst Me!\\n</td>\n",
       "      <td>I Was A Teenage Anarchist</td>\n",
       "    </tr>\n",
       "    <tr>\n",
       "      <th>999</th>\n",
       "      <td>\\nArcade Fire\\n</td>\n",
       "      <td>Ready To Start</td>\n",
       "    </tr>\n",
       "  </tbody>\n",
       "</table>\n",
       "<p>1000 rows × 2 columns</p>\n",
       "</div>"
      ],
      "text/plain": [
       "                      artist                      title\n",
       "0            \\nSaving Abel\\n            The Sex Is Good\n",
       "1              \\nDisturbed\\n         Another Way to Die\n",
       "2                   \\nMuse\\n                 Resistance\n",
       "3            \\nLinkin Park\\n        Waiting for the End\n",
       "4        \\nThe Dirty Heads\\n                Lay Me Down\n",
       "..                       ...                        ...\n",
       "995  \\nTheory Of A Deadman\\n               Little Smirk\n",
       "996               \\nMetric\\n            Gold Guns Girls\n",
       "997                \\nTrapt\\n                  Sound Off\n",
       "998          \\nAgainst Me!\\n  I Was A Teenage Anarchist\n",
       "999          \\nArcade Fire\\n             Ready To Start\n",
       "\n",
       "[1000 rows x 2 columns]"
      ]
     },
     "execution_count": 77,
     "metadata": {},
     "output_type": "execute_result"
    }
   ],
   "source": [
    "# Merging both lists onto a DataFrame\n",
    "artist_song1 = pd.DataFrame({\"artist\":artist1,\n",
    "                       \"title\":title1\n",
    "                      })\n",
    "artist_song1"
   ]
  },
  {
   "cell_type": "code",
   "execution_count": 78,
   "id": "ea1399a7",
   "metadata": {},
   "outputs": [
    {
     "data": {
      "text/html": [
       "<div>\n",
       "<style scoped>\n",
       "    .dataframe tbody tr th:only-of-type {\n",
       "        vertical-align: middle;\n",
       "    }\n",
       "\n",
       "    .dataframe tbody tr th {\n",
       "        vertical-align: top;\n",
       "    }\n",
       "\n",
       "    .dataframe thead th {\n",
       "        text-align: right;\n",
       "    }\n",
       "</style>\n",
       "<table border=\"1\" class=\"dataframe\">\n",
       "  <thead>\n",
       "    <tr style=\"text-align: right;\">\n",
       "      <th></th>\n",
       "      <th>artist</th>\n",
       "      <th>title</th>\n",
       "    </tr>\n",
       "  </thead>\n",
       "  <tbody>\n",
       "    <tr>\n",
       "      <th>0</th>\n",
       "      <td>Saving Abel</td>\n",
       "      <td>The Sex Is Good</td>\n",
       "    </tr>\n",
       "    <tr>\n",
       "      <th>1</th>\n",
       "      <td>Disturbed</td>\n",
       "      <td>Another Way to Die</td>\n",
       "    </tr>\n",
       "    <tr>\n",
       "      <th>2</th>\n",
       "      <td>Muse</td>\n",
       "      <td>Resistance</td>\n",
       "    </tr>\n",
       "    <tr>\n",
       "      <th>3</th>\n",
       "      <td>Linkin Park</td>\n",
       "      <td>Waiting for the End</td>\n",
       "    </tr>\n",
       "    <tr>\n",
       "      <th>4</th>\n",
       "      <td>The Dirty Heads</td>\n",
       "      <td>Lay Me Down</td>\n",
       "    </tr>\n",
       "    <tr>\n",
       "      <th>...</th>\n",
       "      <td>...</td>\n",
       "      <td>...</td>\n",
       "    </tr>\n",
       "    <tr>\n",
       "      <th>995</th>\n",
       "      <td>Theory Of A Deadman</td>\n",
       "      <td>Little Smirk</td>\n",
       "    </tr>\n",
       "    <tr>\n",
       "      <th>996</th>\n",
       "      <td>Metric</td>\n",
       "      <td>Gold Guns Girls</td>\n",
       "    </tr>\n",
       "    <tr>\n",
       "      <th>997</th>\n",
       "      <td>Trapt</td>\n",
       "      <td>Sound Off</td>\n",
       "    </tr>\n",
       "    <tr>\n",
       "      <th>998</th>\n",
       "      <td>Against Me!</td>\n",
       "      <td>I Was A Teenage Anarchist</td>\n",
       "    </tr>\n",
       "    <tr>\n",
       "      <th>999</th>\n",
       "      <td>Arcade Fire</td>\n",
       "      <td>Ready To Start</td>\n",
       "    </tr>\n",
       "  </tbody>\n",
       "</table>\n",
       "<p>1000 rows × 2 columns</p>\n",
       "</div>"
      ],
      "text/plain": [
       "                  artist                      title\n",
       "0            Saving Abel            The Sex Is Good\n",
       "1              Disturbed         Another Way to Die\n",
       "2                   Muse                 Resistance\n",
       "3            Linkin Park        Waiting for the End\n",
       "4        The Dirty Heads                Lay Me Down\n",
       "..                   ...                        ...\n",
       "995  Theory Of A Deadman               Little Smirk\n",
       "996               Metric            Gold Guns Girls\n",
       "997                Trapt                  Sound Off\n",
       "998          Against Me!  I Was A Teenage Anarchist\n",
       "999          Arcade Fire             Ready To Start\n",
       "\n",
       "[1000 rows x 2 columns]"
      ]
     },
     "execution_count": 78,
     "metadata": {},
     "output_type": "execute_result"
    }
   ],
   "source": [
    "# Removing the '\\n' from column 'artist'\n",
    "artist_song1['artist'] = artist_song1['artist'].str.replace('\\n','')\n",
    "artist_song1"
   ]
  },
  {
   "cell_type": "code",
   "execution_count": 79,
   "id": "f379e156",
   "metadata": {},
   "outputs": [
    {
     "data": {
      "text/plain": [
       "(1100, 2)"
      ]
     },
     "execution_count": 79,
     "metadata": {},
     "output_type": "execute_result"
    }
   ],
   "source": [
    "# Concatenating both lists\n",
    "artist_song = pd.concat([artist_song, artist_song1], axis = 0)\n",
    "artist_song.shape"
   ]
  },
  {
   "cell_type": "code",
   "execution_count": 82,
   "id": "3fdb224b",
   "metadata": {},
   "outputs": [
    {
     "name": "stdout",
     "output_type": "stream",
     "text": [
      "Enter the name of a song:I Was A Teenage Anarchist\n",
      "Here's a good song you might also like! Maybe\n"
     ]
    }
   ],
   "source": [
    "import random\n",
    "var = input(\"Enter the name of a song:\")\n",
    "random_name = random.choice(artist_song['title'])\n",
    "\n",
    "if var in artist_song['title'].values:\n",
    "    print(\"Here's a good song you might also like!\", random_name)\n",
    "else:\n",
    "    print(\"Sorry, we don't have any suggestions!\")"
   ]
  }
 ],
 "metadata": {
  "kernelspec": {
   "display_name": "Python 3 (ipykernel)",
   "language": "python",
   "name": "python3"
  },
  "language_info": {
   "codemirror_mode": {
    "name": "ipython",
    "version": 3
   },
   "file_extension": ".py",
   "mimetype": "text/x-python",
   "name": "python",
   "nbconvert_exporter": "python",
   "pygments_lexer": "ipython3",
   "version": "3.9.12"
  }
 },
 "nbformat": 4,
 "nbformat_minor": 5
}
