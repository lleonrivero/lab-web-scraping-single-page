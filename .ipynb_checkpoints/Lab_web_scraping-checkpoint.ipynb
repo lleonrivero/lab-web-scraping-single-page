{
 "cells": [
  {
   "cell_type": "markdown",
   "id": "80b51585",
   "metadata": {},
   "source": [
    "# WEB SCRAPING LAB"
   ]
  },
  {
   "cell_type": "markdown",
   "id": "84dfd0a1",
   "metadata": {},
   "source": [
    "# Activity 1: MVP"
   ]
  },
  {
   "cell_type": "markdown",
   "id": "9d89bfbe",
   "metadata": {},
   "source": [
    "## Importing libraries"
   ]
  },
  {
   "cell_type": "code",
   "execution_count": 1,
   "id": "e0b554a1",
   "metadata": {},
   "outputs": [],
   "source": [
    "from bs4 import BeautifulSoup\n",
    "import requests # Allows us to access information on any webpage\n",
    "import pandas as pd"
   ]
  },
  {
   "cell_type": "markdown",
   "id": "53db8425",
   "metadata": {},
   "source": [
    "## Storing and reading webpage"
   ]
  },
  {
   "cell_type": "code",
   "execution_count": 2,
   "id": "147390e3",
   "metadata": {},
   "outputs": [],
   "source": [
    "# Using the iTunes Top 100 Songs Chart\n",
    "\n",
    "url = \"https://www.popvortex.com/music/charts/top-100-songs.php\""
   ]
  },
  {
   "cell_type": "code",
   "execution_count": 3,
   "id": "d4752790",
   "metadata": {},
   "outputs": [
    {
     "data": {
      "text/plain": [
       "200"
      ]
     },
     "execution_count": 3,
     "metadata": {},
     "output_type": "execute_result"
    }
   ],
   "source": [
    "# Checking the url response\n",
    "\n",
    "response = requests.get(url)\n",
    "response.status_code # 200 status code means OK!"
   ]
  },
  {
   "cell_type": "code",
   "execution_count": 4,
   "id": "80fb823c",
   "metadata": {
    "collapsed": true
   },
   "outputs": [],
   "source": [
    "soup = BeautifulSoup(response.content, \"html.parser\")"
   ]
  },
  {
   "cell_type": "code",
   "execution_count": 1,
   "id": "5dd447c5",
   "metadata": {},
   "outputs": [],
   "source": [
    "#print(soup.prettify())"
   ]
  },
  {
   "cell_type": "markdown",
   "id": "2d7e7c6e",
   "metadata": {},
   "source": [
    "## Extracting information"
   ]
  },
  {
   "cell_type": "code",
   "execution_count": 57,
   "id": "d716140f",
   "metadata": {},
   "outputs": [],
   "source": [
    "# Getting the artist list\n",
    "artist = []\n",
    "\n",
    "for i in soup.select('.artist'):\n",
    "    artist.append(i.get_text())"
   ]
  },
  {
   "cell_type": "code",
   "execution_count": 58,
   "id": "8628a97c",
   "metadata": {},
   "outputs": [],
   "source": [
    "# Getting the song list\n",
    "title = []\n",
    "\n",
    "for i in soup.select('.title'):\n",
    "    title.append(i.get_text())"
   ]
  },
  {
   "cell_type": "code",
   "execution_count": 59,
   "id": "5c17ad9c",
   "metadata": {},
   "outputs": [
    {
     "data": {
      "text/html": [
       "<div>\n",
       "<style scoped>\n",
       "    .dataframe tbody tr th:only-of-type {\n",
       "        vertical-align: middle;\n",
       "    }\n",
       "\n",
       "    .dataframe tbody tr th {\n",
       "        vertical-align: top;\n",
       "    }\n",
       "\n",
       "    .dataframe thead th {\n",
       "        text-align: right;\n",
       "    }\n",
       "</style>\n",
       "<table border=\"1\" class=\"dataframe\">\n",
       "  <thead>\n",
       "    <tr style=\"text-align: right;\">\n",
       "      <th></th>\n",
       "      <th>artist</th>\n",
       "      <th>title</th>\n",
       "    </tr>\n",
       "  </thead>\n",
       "  <tbody>\n",
       "    <tr>\n",
       "      <th>0</th>\n",
       "      <td>Sam Smith &amp; Kim Petras</td>\n",
       "      <td>Unholy</td>\n",
       "    </tr>\n",
       "    <tr>\n",
       "      <th>1</th>\n",
       "      <td>Transformation Worship</td>\n",
       "      <td>Eagle (feat. KB)</td>\n",
       "    </tr>\n",
       "    <tr>\n",
       "      <th>2</th>\n",
       "      <td>Fleetwood Mac</td>\n",
       "      <td>Everywhere</td>\n",
       "    </tr>\n",
       "    <tr>\n",
       "      <th>3</th>\n",
       "      <td>David Guetta &amp; Bebe Rexha</td>\n",
       "      <td>I'm Good (Blue)</td>\n",
       "    </tr>\n",
       "    <tr>\n",
       "      <th>4</th>\n",
       "      <td>HARDY &amp; Lainey Wilson</td>\n",
       "      <td>wait in the truck</td>\n",
       "    </tr>\n",
       "    <tr>\n",
       "      <th>...</th>\n",
       "      <td>...</td>\n",
       "      <td>...</td>\n",
       "    </tr>\n",
       "    <tr>\n",
       "      <th>95</th>\n",
       "      <td>Carolina Gaitán - La Gaita, Mauro Castillo, Ad...</td>\n",
       "      <td>We Don't Talk About Bruno</td>\n",
       "    </tr>\n",
       "    <tr>\n",
       "      <th>96</th>\n",
       "      <td>Bad Bunny &amp; Chencho Corleone</td>\n",
       "      <td>Me Porto Bonito</td>\n",
       "    </tr>\n",
       "    <tr>\n",
       "      <th>97</th>\n",
       "      <td>Morgan Wallen</td>\n",
       "      <td>Whiskey Glasses</td>\n",
       "    </tr>\n",
       "    <tr>\n",
       "      <th>98</th>\n",
       "      <td>Simple Minds</td>\n",
       "      <td>Don't You (Forget About Me)</td>\n",
       "    </tr>\n",
       "    <tr>\n",
       "      <th>99</th>\n",
       "      <td>Chris Stapleton</td>\n",
       "      <td>Starting Over</td>\n",
       "    </tr>\n",
       "  </tbody>\n",
       "</table>\n",
       "<p>100 rows × 2 columns</p>\n",
       "</div>"
      ],
      "text/plain": [
       "                                               artist  \\\n",
       "0                              Sam Smith & Kim Petras   \n",
       "1                              Transformation Worship   \n",
       "2                                       Fleetwood Mac   \n",
       "3                           David Guetta & Bebe Rexha   \n",
       "4                               HARDY & Lainey Wilson   \n",
       "..                                                ...   \n",
       "95  Carolina Gaitán - La Gaita, Mauro Castillo, Ad...   \n",
       "96                       Bad Bunny & Chencho Corleone   \n",
       "97                                      Morgan Wallen   \n",
       "98                                       Simple Minds   \n",
       "99                                    Chris Stapleton   \n",
       "\n",
       "                          title  \n",
       "0                        Unholy  \n",
       "1              Eagle (feat. KB)  \n",
       "2                    Everywhere  \n",
       "3               I'm Good (Blue)  \n",
       "4             wait in the truck  \n",
       "..                          ...  \n",
       "95    We Don't Talk About Bruno  \n",
       "96              Me Porto Bonito  \n",
       "97              Whiskey Glasses  \n",
       "98  Don't You (Forget About Me)  \n",
       "99                Starting Over  \n",
       "\n",
       "[100 rows x 2 columns]"
      ]
     },
     "execution_count": 59,
     "metadata": {},
     "output_type": "execute_result"
    }
   ],
   "source": [
    "# Merging both lists onto a DataFrame\n",
    "artist_song = pd.DataFrame({\"artist\":artist,\n",
    "                       \"title\":title\n",
    "                      })\n",
    "artist_song"
   ]
  },
  {
   "cell_type": "code",
   "execution_count": 211,
   "id": "f9052911",
   "metadata": {},
   "outputs": [
    {
     "name": "stdout",
     "output_type": "stream",
     "text": [
      "Enter the name of a song:Unholy\n",
      "Here's a good song you might also like! I Ain't Worried\n"
     ]
    }
   ],
   "source": [
    "import random\n",
    "var = input(\"Enter the name of a song:\")\n",
    "random_name = random.choice(artist_song['title'])\n",
    "\n",
    "if var in artist_song['title'].values:\n",
    "    print(\"Here's a good song you might also like!\", random_name)\n",
    "else:\n",
    "    print(\"Sorry, we don't have any suggestions!\")"
   ]
  },
  {
   "cell_type": "markdown",
   "id": "2ec93d9b",
   "metadata": {},
   "source": [
    "# Activity 2: expanding the project"
   ]
  },
  {
   "cell_type": "markdown",
   "id": "e1a33437",
   "metadata": {},
   "source": [
    "Pulling out all rock songs between 2010 and 2019 from playback.fm."
   ]
  },
  {
   "cell_type": "code",
   "execution_count": 202,
   "id": "535aa9e6",
   "metadata": {},
   "outputs": [],
   "source": [
    "url1 = 'https://playback.fm/charts/rock/2010'"
   ]
  },
  {
   "cell_type": "code",
   "execution_count": 203,
   "id": "039d1228",
   "metadata": {},
   "outputs": [
    {
     "data": {
      "text/plain": [
       "200"
      ]
     },
     "execution_count": 203,
     "metadata": {},
     "output_type": "execute_result"
    }
   ],
   "source": [
    "# Checking the url response\n",
    "\n",
    "response = requests.get(url1)\n",
    "response.status_code # 200 status code means OK!"
   ]
  },
  {
   "cell_type": "code",
   "execution_count": 204,
   "id": "b52d5083",
   "metadata": {},
   "outputs": [],
   "source": [
    "soup1 = BeautifulSoup(response.content, \"html.parser\")"
   ]
  },
  {
   "cell_type": "code",
   "execution_count": 2,
   "id": "c2f94c20",
   "metadata": {},
   "outputs": [],
   "source": [
    "#print(soup1.prettify())"
   ]
  },
  {
   "cell_type": "code",
   "execution_count": 184,
   "id": "1d3cd6f8",
   "metadata": {},
   "outputs": [
    {
     "name": "stdout",
     "output_type": "stream",
     "text": [
      "https://playback.fm/charts/rock/2010\n",
      "https://playback.fm/charts/rock/2011\n",
      "https://playback.fm/charts/rock/2012\n",
      "https://playback.fm/charts/rock/2013\n",
      "https://playback.fm/charts/rock/2014\n",
      "https://playback.fm/charts/rock/2015\n",
      "https://playback.fm/charts/rock/2016\n",
      "https://playback.fm/charts/rock/2017\n",
      "https://playback.fm/charts/rock/2018\n",
      "https://playback.fm/charts/rock/2019\n"
     ]
    }
   ],
   "source": [
    "iterations = range(2010, 2020, 1)\n",
    "#[i for i in iterations]\n",
    "for i in iterations:\n",
    "    start_at= str(i)\n",
    "    url1 = 'https://playback.fm/charts/rock/' + start_at\n",
    "    print(url1)"
   ]
  },
  {
   "cell_type": "code",
   "execution_count": 185,
   "id": "203955c3",
   "metadata": {},
   "outputs": [],
   "source": [
    "import random\n",
    "from time import sleep\n",
    "from random import randint"
   ]
  },
  {
   "cell_type": "code",
   "execution_count": 186,
   "id": "30194852",
   "metadata": {
    "scrolled": true
   },
   "outputs": [
    {
     "name": "stdout",
     "output_type": "stream",
     "text": [
      "Status code: 200\n",
      "I will sleep for 1 second/s.\n",
      "Status code: 200\n",
      "I will sleep for 1 second/s.\n",
      "Status code: 200\n",
      "I will sleep for 3 second/s.\n",
      "Status code: 200\n",
      "I will sleep for 4 second/s.\n",
      "Status code: 200\n",
      "I will sleep for 4 second/s.\n",
      "Status code: 200\n",
      "I will sleep for 2 second/s.\n",
      "Status code: 200\n",
      "I will sleep for 4 second/s.\n",
      "Status code: 200\n",
      "I will sleep for 2 second/s.\n",
      "Status code: 200\n",
      "I will sleep for 1 second/s.\n",
      "Status code: 200\n",
      "I will sleep for 3 second/s.\n"
     ]
    }
   ],
   "source": [
    "pages = []\n",
    "\n",
    "for i in iterations:\n",
    "    # assemble the url:\n",
    "    start_at= str(i)\n",
    "    url1 = 'https://playback.fm/charts/rock/' + start_at\n",
    "\n",
    "    # download html with a get request:\n",
    "    response = requests.get(url1)\n",
    "    #response = requests.get(url, headers = {\"Accept-Language\": \"en-US\"})\n",
    "\n",
    "    # monitor the process by printing the status code\n",
    "    print(\"Status code: \" + str(response.status_code))\n",
    "\n",
    "    # store response into \"pages\" list\n",
    "    pages.append(response)\n",
    "\n",
    "    # respectful nap:\n",
    "    wait_time = randint(1,4)\n",
    "    print(\"I will sleep for \" + str(wait_time) + \" second/s.\")\n",
    "    sleep(wait_time)"
   ]
  },
  {
   "cell_type": "code",
   "execution_count": 239,
   "id": "08ebb7f8",
   "metadata": {},
   "outputs": [],
   "source": [
    "artist1 = []\n",
    "\n",
    "for i in range(len(pages)):\n",
    "    parsed = BeautifulSoup(pages[i].content, \"html.parser\")\n",
    "    artist_html = parsed.select('td:nth-child(2) > a')\n",
    "    for i in soup1.select('td:nth-child(2) > a'):\n",
    "        artist1.append(i.get_text())"
   ]
  },
  {
   "cell_type": "code",
   "execution_count": 240,
   "id": "bd949613",
   "metadata": {},
   "outputs": [],
   "source": [
    "title1 = []\n",
    "\n",
    "for i in range(len(pages)):\n",
    "    parsed = BeautifulSoup(pages[i].content, \"html.parser\")\n",
    "    title_html = parsed.select('td.mobile-hide > a > span.song')\n",
    "    for i in soup1.select('td.mobile-hide > a > span.song'):\n",
    "        title1.append(i.get_text())"
   ]
  },
  {
   "cell_type": "code",
   "execution_count": 241,
   "id": "d5aa1bba",
   "metadata": {},
   "outputs": [
    {
     "data": {
      "text/html": [
       "<div>\n",
       "<style scoped>\n",
       "    .dataframe tbody tr th:only-of-type {\n",
       "        vertical-align: middle;\n",
       "    }\n",
       "\n",
       "    .dataframe tbody tr th {\n",
       "        vertical-align: top;\n",
       "    }\n",
       "\n",
       "    .dataframe thead th {\n",
       "        text-align: right;\n",
       "    }\n",
       "</style>\n",
       "<table border=\"1\" class=\"dataframe\">\n",
       "  <thead>\n",
       "    <tr style=\"text-align: right;\">\n",
       "      <th></th>\n",
       "      <th>artist</th>\n",
       "      <th>title</th>\n",
       "    </tr>\n",
       "  </thead>\n",
       "  <tbody>\n",
       "    <tr>\n",
       "      <th>0</th>\n",
       "      <td>\\nSaving Abel\\n</td>\n",
       "      <td>The Sex Is Good</td>\n",
       "    </tr>\n",
       "    <tr>\n",
       "      <th>1</th>\n",
       "      <td>\\nDisturbed\\n</td>\n",
       "      <td>Another Way to Die</td>\n",
       "    </tr>\n",
       "    <tr>\n",
       "      <th>2</th>\n",
       "      <td>\\nMuse\\n</td>\n",
       "      <td>Resistance</td>\n",
       "    </tr>\n",
       "    <tr>\n",
       "      <th>3</th>\n",
       "      <td>\\nLinkin Park\\n</td>\n",
       "      <td>Waiting for the End</td>\n",
       "    </tr>\n",
       "    <tr>\n",
       "      <th>4</th>\n",
       "      <td>\\nThe Dirty Heads\\n</td>\n",
       "      <td>Lay Me Down</td>\n",
       "    </tr>\n",
       "    <tr>\n",
       "      <th>...</th>\n",
       "      <td>...</td>\n",
       "      <td>...</td>\n",
       "    </tr>\n",
       "    <tr>\n",
       "      <th>995</th>\n",
       "      <td>\\nTheory Of A Deadman\\n</td>\n",
       "      <td>Little Smirk</td>\n",
       "    </tr>\n",
       "    <tr>\n",
       "      <th>996</th>\n",
       "      <td>\\nMetric\\n</td>\n",
       "      <td>Gold Guns Girls</td>\n",
       "    </tr>\n",
       "    <tr>\n",
       "      <th>997</th>\n",
       "      <td>\\nTrapt\\n</td>\n",
       "      <td>Sound Off</td>\n",
       "    </tr>\n",
       "    <tr>\n",
       "      <th>998</th>\n",
       "      <td>\\nAgainst Me!\\n</td>\n",
       "      <td>I Was A Teenage Anarchist</td>\n",
       "    </tr>\n",
       "    <tr>\n",
       "      <th>999</th>\n",
       "      <td>\\nArcade Fire\\n</td>\n",
       "      <td>Ready To Start</td>\n",
       "    </tr>\n",
       "  </tbody>\n",
       "</table>\n",
       "<p>1000 rows × 2 columns</p>\n",
       "</div>"
      ],
      "text/plain": [
       "                      artist                      title\n",
       "0            \\nSaving Abel\\n            The Sex Is Good\n",
       "1              \\nDisturbed\\n         Another Way to Die\n",
       "2                   \\nMuse\\n                 Resistance\n",
       "3            \\nLinkin Park\\n        Waiting for the End\n",
       "4        \\nThe Dirty Heads\\n                Lay Me Down\n",
       "..                       ...                        ...\n",
       "995  \\nTheory Of A Deadman\\n               Little Smirk\n",
       "996               \\nMetric\\n            Gold Guns Girls\n",
       "997                \\nTrapt\\n                  Sound Off\n",
       "998          \\nAgainst Me!\\n  I Was A Teenage Anarchist\n",
       "999          \\nArcade Fire\\n             Ready To Start\n",
       "\n",
       "[1000 rows x 2 columns]"
      ]
     },
     "execution_count": 241,
     "metadata": {},
     "output_type": "execute_result"
    }
   ],
   "source": [
    "# Merging both lists onto a DataFrame\n",
    "artist_song1 = pd.DataFrame({\"artist\":artist1,\n",
    "                       \"title\":title1\n",
    "                      })\n",
    "artist_song1"
   ]
  },
  {
   "cell_type": "code",
   "execution_count": 237,
   "id": "ea1399a7",
   "metadata": {},
   "outputs": [
    {
     "data": {
      "text/html": [
       "<div>\n",
       "<style scoped>\n",
       "    .dataframe tbody tr th:only-of-type {\n",
       "        vertical-align: middle;\n",
       "    }\n",
       "\n",
       "    .dataframe tbody tr th {\n",
       "        vertical-align: top;\n",
       "    }\n",
       "\n",
       "    .dataframe thead th {\n",
       "        text-align: right;\n",
       "    }\n",
       "</style>\n",
       "<table border=\"1\" class=\"dataframe\">\n",
       "  <thead>\n",
       "    <tr style=\"text-align: right;\">\n",
       "      <th></th>\n",
       "      <th>artist</th>\n",
       "      <th>title</th>\n",
       "    </tr>\n",
       "  </thead>\n",
       "  <tbody>\n",
       "    <tr>\n",
       "      <th>0</th>\n",
       "      <td>Saving Abel</td>\n",
       "      <td>The Sex Is Good</td>\n",
       "    </tr>\n",
       "    <tr>\n",
       "      <th>1</th>\n",
       "      <td>Disturbed</td>\n",
       "      <td>Another Way to Die</td>\n",
       "    </tr>\n",
       "    <tr>\n",
       "      <th>2</th>\n",
       "      <td>Muse</td>\n",
       "      <td>Resistance</td>\n",
       "    </tr>\n",
       "    <tr>\n",
       "      <th>3</th>\n",
       "      <td>Linkin Park</td>\n",
       "      <td>Waiting for the End</td>\n",
       "    </tr>\n",
       "    <tr>\n",
       "      <th>4</th>\n",
       "      <td>The Dirty Heads</td>\n",
       "      <td>Lay Me Down</td>\n",
       "    </tr>\n",
       "    <tr>\n",
       "      <th>...</th>\n",
       "      <td>...</td>\n",
       "      <td>...</td>\n",
       "    </tr>\n",
       "    <tr>\n",
       "      <th>995</th>\n",
       "      <td>Theory Of A Deadman</td>\n",
       "      <td>Little Smirk</td>\n",
       "    </tr>\n",
       "    <tr>\n",
       "      <th>996</th>\n",
       "      <td>Metric</td>\n",
       "      <td>Gold Guns Girls</td>\n",
       "    </tr>\n",
       "    <tr>\n",
       "      <th>997</th>\n",
       "      <td>Trapt</td>\n",
       "      <td>Sound Off</td>\n",
       "    </tr>\n",
       "    <tr>\n",
       "      <th>998</th>\n",
       "      <td>Against Me!</td>\n",
       "      <td>I Was A Teenage Anarchist</td>\n",
       "    </tr>\n",
       "    <tr>\n",
       "      <th>999</th>\n",
       "      <td>Arcade Fire</td>\n",
       "      <td>Ready To Start</td>\n",
       "    </tr>\n",
       "  </tbody>\n",
       "</table>\n",
       "<p>1000 rows × 2 columns</p>\n",
       "</div>"
      ],
      "text/plain": [
       "                  artist                      title\n",
       "0            Saving Abel            The Sex Is Good\n",
       "1              Disturbed         Another Way to Die\n",
       "2                   Muse                 Resistance\n",
       "3            Linkin Park        Waiting for the End\n",
       "4        The Dirty Heads                Lay Me Down\n",
       "..                   ...                        ...\n",
       "995  Theory Of A Deadman               Little Smirk\n",
       "996               Metric            Gold Guns Girls\n",
       "997                Trapt                  Sound Off\n",
       "998          Against Me!  I Was A Teenage Anarchist\n",
       "999          Arcade Fire             Ready To Start\n",
       "\n",
       "[1000 rows x 2 columns]"
      ]
     },
     "execution_count": 237,
     "metadata": {},
     "output_type": "execute_result"
    }
   ],
   "source": [
    "# Removing the '\\n' from column 'artist'\n",
    "artist_song1['artist'] = artist_song1['artist'].str.replace('\\n','')\n",
    "artist_song1"
   ]
  }
 ],
 "metadata": {
  "kernelspec": {
   "display_name": "Python 3 (ipykernel)",
   "language": "python",
   "name": "python3"
  },
  "language_info": {
   "codemirror_mode": {
    "name": "ipython",
    "version": 3
   },
   "file_extension": ".py",
   "mimetype": "text/x-python",
   "name": "python",
   "nbconvert_exporter": "python",
   "pygments_lexer": "ipython3",
   "version": "3.9.12"
  }
 },
 "nbformat": 4,
 "nbformat_minor": 5
}
