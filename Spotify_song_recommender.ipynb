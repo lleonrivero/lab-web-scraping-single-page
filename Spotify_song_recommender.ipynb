{
 "cells": [
  {
   "cell_type": "code",
   "execution_count": 106,
   "id": "36d4d55e",
   "metadata": {},
   "outputs": [],
   "source": [
    "import spotipy\n",
    "from spotipy.oauth2 import SpotifyClientCredentials\n",
    "import pandas as pd\n",
    "import numpy as np\n",
    "from sklearn.cluster import KMeans\n",
    "import warnings\n",
    "warnings.filterwarnings('ignore')"
   ]
  },
  {
   "cell_type": "code",
   "execution_count": 3,
   "id": "a8d2bc46",
   "metadata": {},
   "outputs": [],
   "source": [
    "# Storing 'id' and 'secret' in txt file to hide it from rest of users when publishing the notebook.\n",
    "secrets_file = open(\"secrets.txt\",\"r\")"
   ]
  },
  {
   "cell_type": "code",
   "execution_count": 4,
   "id": "d52de6d5",
   "metadata": {},
   "outputs": [],
   "source": [
    "string = secrets_file.read()"
   ]
  },
  {
   "cell_type": "code",
   "execution_count": 5,
   "id": "425630cc",
   "metadata": {},
   "outputs": [
    {
     "data": {
      "text/plain": [
       "'cid:cad27f8cb5d7437fb2c92239d931b29c\\ncsecret:a067c0d3dded412c94a4c95c5dff00f4'"
      ]
     },
     "execution_count": 5,
     "metadata": {},
     "output_type": "execute_result"
    }
   ],
   "source": [
    "# Not to be published: just for academic purposes.\n",
    "string"
   ]
  },
  {
   "cell_type": "code",
   "execution_count": 6,
   "id": "4ed1958d",
   "metadata": {},
   "outputs": [
    {
     "data": {
      "text/plain": [
       "['cid:cad27f8cb5d7437fb2c92239d931b29c',\n",
       " 'csecret:a067c0d3dded412c94a4c95c5dff00f4']"
      ]
     },
     "execution_count": 6,
     "metadata": {},
     "output_type": "execute_result"
    }
   ],
   "source": [
    "# Not to be published: just for academic purposes.\n",
    "string.split('\\n')"
   ]
  },
  {
   "cell_type": "code",
   "execution_count": 7,
   "id": "8fbdf84d",
   "metadata": {},
   "outputs": [],
   "source": [
    "# Creating a dictionary to read from it when accessing Spotify using Spotipy\n",
    "secrets_dict={}\n",
    "for line in string.split('\\n'):\n",
    "    if len(line) > 0:\n",
    "        secrets_dict[line.split(':')[0]]=line.split(':')[1]"
   ]
  },
  {
   "cell_type": "code",
   "execution_count": 8,
   "id": "c1da0c6c",
   "metadata": {},
   "outputs": [
    {
     "data": {
      "text/plain": [
       "{'cid': 'cad27f8cb5d7437fb2c92239d931b29c',\n",
       " 'csecret': 'a067c0d3dded412c94a4c95c5dff00f4'}"
      ]
     },
     "execution_count": 8,
     "metadata": {},
     "output_type": "execute_result"
    }
   ],
   "source": [
    "# Not to be published: just for academic purposes.\n",
    "secrets_dict"
   ]
  },
  {
   "cell_type": "code",
   "execution_count": 9,
   "id": "77dfff4c",
   "metadata": {},
   "outputs": [],
   "source": [
    "#Initialize SpotiPy with user credentials\n",
    "sp = spotipy.Spotify(auth_manager=SpotifyClientCredentials(client_id=secrets_dict['cid'],\n",
    "                                                           client_secret=secrets_dict['csecret']))"
   ]
  },
  {
   "cell_type": "markdown",
   "id": "b89d3e10",
   "metadata": {},
   "source": [
    "# Playlists"
   ]
  },
  {
   "cell_type": "markdown",
   "id": "8c646653",
   "metadata": {},
   "source": [
    "#### Getting the playlists"
   ]
  },
  {
   "cell_type": "code",
   "execution_count": 10,
   "id": "f03fcea5",
   "metadata": {},
   "outputs": [],
   "source": [
    "from random import randint\n",
    "from time import sleep\n",
    "\n",
    "def get_playlist_tracks(playlist_id):\n",
    "    results = sp.user_playlist_tracks(\"spotify\",playlist_id)\n",
    "    tracks = results['items']\n",
    "    while results['next']!=None:\n",
    "        results = sp.next(results)\n",
    "        tracks = tracks + results['items']\n",
    "        sleep(randint(1,3))\n",
    "    return tracks"
   ]
  },
  {
   "cell_type": "code",
   "execution_count": 37,
   "id": "06f5f24a",
   "metadata": {},
   "outputs": [
    {
     "data": {
      "text/plain": [
       "1200"
      ]
     },
     "execution_count": 37,
     "metadata": {},
     "output_type": "execute_result"
    }
   ],
   "source": [
    "playlist1 = get_playlist_tracks(\"5Q7JPVmkNBFbPF5QVJFLds\")\n",
    "len(playlist1)"
   ]
  },
  {
   "cell_type": "code",
   "execution_count": 38,
   "id": "2569b0ba",
   "metadata": {},
   "outputs": [
    {
     "data": {
      "text/plain": [
       "6969"
      ]
     },
     "execution_count": 38,
     "metadata": {},
     "output_type": "execute_result"
    }
   ],
   "source": [
    "playlist2 = get_playlist_tracks(\"4lTcPloX9vRUWcJ3RGZaUC\")\n",
    "len(playlist2)"
   ]
  },
  {
   "cell_type": "code",
   "execution_count": 39,
   "id": "f0851ff3",
   "metadata": {},
   "outputs": [
    {
     "data": {
      "text/plain": [
       "4008"
      ]
     },
     "execution_count": 39,
     "metadata": {},
     "output_type": "execute_result"
    }
   ],
   "source": [
    "playlist3 = get_playlist_tracks(\"6ZlFKcTzJVslgjudScTX4G\")\n",
    "len(playlist3)"
   ]
  },
  {
   "cell_type": "code",
   "execution_count": 11,
   "id": "71abba4c",
   "metadata": {},
   "outputs": [
    {
     "data": {
      "text/plain": [
       "119"
      ]
     },
     "execution_count": 11,
     "metadata": {},
     "output_type": "execute_result"
    }
   ],
   "source": [
    "playlist4 = get_playlist_tracks(\"1ukPyCwTQZ3O9v1gPWVQz4\")\n",
    "len(playlist4)"
   ]
  },
  {
   "cell_type": "code",
   "execution_count": 18,
   "id": "c6c2a57b",
   "metadata": {},
   "outputs": [
    {
     "data": {
      "text/plain": [
       "590"
      ]
     },
     "execution_count": 18,
     "metadata": {},
     "output_type": "execute_result"
    }
   ],
   "source": [
    "playlist5 = get_playlist_tracks(\"5K1ZnbYaYBIwof9UytdaMO\")\n",
    "len(playlist5)"
   ]
  },
  {
   "cell_type": "code",
   "execution_count": 40,
   "id": "b641f604",
   "metadata": {},
   "outputs": [
    {
     "data": {
      "text/plain": [
       "646"
      ]
     },
     "execution_count": 40,
     "metadata": {},
     "output_type": "execute_result"
    }
   ],
   "source": [
    "playlist6 = get_playlist_tracks(\"3ZA4Q3cDjwcac2gdCewej8\")\n",
    "len(playlist6)"
   ]
  },
  {
   "cell_type": "code",
   "execution_count": 41,
   "id": "9b7d32f5",
   "metadata": {},
   "outputs": [
    {
     "data": {
      "text/plain": [
       "2167"
      ]
     },
     "execution_count": 41,
     "metadata": {},
     "output_type": "execute_result"
    }
   ],
   "source": [
    "playlist7 = get_playlist_tracks(\"5bZOu1Yz2Xsd3ZB2HFumrv\")\n",
    "len(playlist7)"
   ]
  },
  {
   "cell_type": "code",
   "execution_count": 42,
   "id": "7f96d765",
   "metadata": {},
   "outputs": [
    {
     "data": {
      "text/plain": [
       "5295"
      ]
     },
     "execution_count": 42,
     "metadata": {},
     "output_type": "execute_result"
    }
   ],
   "source": [
    "playlist8 = get_playlist_tracks(\"4rnleEAOdmFAbRcNCgZMpY\")\n",
    "len(playlist8)"
   ]
  },
  {
   "cell_type": "code",
   "execution_count": 43,
   "id": "56cca20e",
   "metadata": {},
   "outputs": [
    {
     "data": {
      "text/plain": [
       "3210"
      ]
     },
     "execution_count": 43,
     "metadata": {},
     "output_type": "execute_result"
    }
   ],
   "source": [
    "playlist9 = get_playlist_tracks(\"1TdTz1c9jp0fB4s4ZRgtV3\")\n",
    "len(playlist9)"
   ]
  },
  {
   "cell_type": "code",
   "execution_count": 44,
   "id": "bca84974",
   "metadata": {},
   "outputs": [
    {
     "data": {
      "text/plain": [
       "7413"
      ]
     },
     "execution_count": 44,
     "metadata": {},
     "output_type": "execute_result"
    }
   ],
   "source": [
    "playlist10 = get_playlist_tracks(\"0twlW4iDRhKXAJPopD8PP0\")\n",
    "len(playlist10)"
   ]
  },
  {
   "cell_type": "markdown",
   "id": "5e230c8c",
   "metadata": {},
   "source": [
    "#### Using the shortest playlist (playlist4, 119 songs) to check the values that I want to extract"
   ]
  },
  {
   "cell_type": "code",
   "execution_count": 45,
   "id": "0d87ed10",
   "metadata": {},
   "outputs": [
    {
     "data": {
      "text/plain": [
       "dict_keys(['added_at', 'added_by', 'is_local', 'primary_color', 'track', 'video_thumbnail'])"
      ]
     },
     "execution_count": 45,
     "metadata": {},
     "output_type": "execute_result"
    }
   ],
   "source": [
    "# Checking for the keys. The required information is within the 'track' subsection.\n",
    "playlist4[0].keys()"
   ]
  },
  {
   "cell_type": "code",
   "execution_count": 46,
   "id": "e8f919ff",
   "metadata": {},
   "outputs": [
    {
     "data": {
      "text/plain": [
       "'Sex Pistols'"
      ]
     },
     "execution_count": 46,
     "metadata": {},
     "output_type": "execute_result"
    }
   ],
   "source": [
    "# Checking for the name of the artist: track > artists > name\n",
    "playlist4[0]['track']['artists'][0]['name']"
   ]
  },
  {
   "cell_type": "code",
   "execution_count": 47,
   "id": "27bfcefd",
   "metadata": {},
   "outputs": [
    {
     "data": {
      "text/plain": [
       "'God Save The Queen'"
      ]
     },
     "execution_count": 47,
     "metadata": {},
     "output_type": "execute_result"
    }
   ],
   "source": [
    "# Checking for the name of the song: track > name\n",
    "playlist4[0]['track']['name']"
   ]
  },
  {
   "cell_type": "code",
   "execution_count": 48,
   "id": "e651b93b",
   "metadata": {},
   "outputs": [
    {
     "data": {
      "text/plain": [
       "'spotify:track:2mHchPRtQWet3iIS3jANr1'"
      ]
     },
     "execution_count": 48,
     "metadata": {},
     "output_type": "execute_result"
    }
   ],
   "source": [
    "# Checking for the URI (Uniform Resource Identifier) where the characteristics of the songs are stored\n",
    "playlist4[0]['track']['uri']"
   ]
  },
  {
   "cell_type": "markdown",
   "id": "f5775dae",
   "metadata": {},
   "source": [
    "#### Concatenating all playlists before pulling out the information"
   ]
  },
  {
   "cell_type": "code",
   "execution_count": 49,
   "id": "8550bec8",
   "metadata": {},
   "outputs": [],
   "source": [
    "all_tracks = playlist1 + playlist2 + playlist3 + playlist4 + playlist5 + playlist6 + playlist7 + playlist8 + playlist9 + playlist10 "
   ]
  },
  {
   "cell_type": "markdown",
   "id": "262619f7",
   "metadata": {},
   "source": [
    "# DataFrame"
   ]
  },
  {
   "cell_type": "markdown",
   "id": "0506960b",
   "metadata": {},
   "source": [
    "#### Pulling out the songs + creating a DataFrame"
   ]
  },
  {
   "cell_type": "code",
   "execution_count": null,
   "id": "871a87b7",
   "metadata": {},
   "outputs": [],
   "source": [
    "# This function is Julia's. She's shared it with me as I couldn't find a good solution to extract all the information at once.\n",
    "\n",
    "def get_df(all_tracks):\n",
    "    \n",
    "    artists = []\n",
    "    songs = []\n",
    "    audio_features = []\n",
    "    \n",
    "    # first I take out the name of the artist, the song, and the dictionary that contents audio features\n",
    "    for i in range(len(all_tracks)):\n",
    "        \n",
    "        # I have to make sure the items has values \n",
    "        if all_tracks[i]['track'] != None:\n",
    "            artists.append(all_tracks[i]['track']['artists'][0]['name'])\n",
    "            songs.append(all_tracks[i]['track']['name'])\n",
    "            uri = all_tracks[i]['track']['uri']\n",
    "            audio = sp.audio_features(uri)[0]\n",
    "            audio_features.append(audio)\n",
    "        else:\n",
    "            print(i)\n",
    "    \n",
    "    # after saving the data into 3 lists, I use them to make a new data frame with 3 columns\n",
    "    total_songs = pd.DataFrame({'song_title':songs,'artist':artists,'audio_features':audio_features})\n",
    "    \n",
    "\n",
    "    # now I have to extrat the dictionary from the column audio_features and give the columns the names of the keys\n",
    "    flattened = pd.DataFrame(dict(total_songs['audio_features'])).transpose()\n",
    "    columns = [str(col) for col in flattened.columns]\n",
    "    flattened.columns = columns\n",
    "    data = pd.concat([total_songs, flattened], axis=1)\n",
    "    data = data.drop(['audio_features'], axis=1)\n",
    "    \n",
    "    return data"
   ]
  },
  {
   "cell_type": "code",
   "execution_count": 51,
   "id": "0224808a",
   "metadata": {},
   "outputs": [
    {
     "name": "stdout",
     "output_type": "stream",
     "text": [
      "846\n",
      "7255\n"
     ]
    },
    {
     "name": "stderr",
     "output_type": "stream",
     "text": [
      "Expected id of type track but found type The+Joker spotify:local:Steve+Miller+Band:Greatest+Hits:The+Joker:218\n"
     ]
    },
    {
     "name": "stdout",
     "output_type": "stream",
     "text": [
      "9943\n",
      "9978\n",
      "9979\n",
      "10019\n",
      "10097\n",
      "10106\n",
      "10297\n",
      "10592\n",
      "10628\n",
      "10766\n",
      "10767\n",
      "10768\n",
      "10769\n",
      "10847\n",
      "10971\n",
      "10972\n",
      "10973\n",
      "29745\n"
     ]
    },
    {
     "data": {
      "text/html": [
       "<div>\n",
       "<style scoped>\n",
       "    .dataframe tbody tr th:only-of-type {\n",
       "        vertical-align: middle;\n",
       "    }\n",
       "\n",
       "    .dataframe tbody tr th {\n",
       "        vertical-align: top;\n",
       "    }\n",
       "\n",
       "    .dataframe thead th {\n",
       "        text-align: right;\n",
       "    }\n",
       "</style>\n",
       "<table border=\"1\" class=\"dataframe\">\n",
       "  <thead>\n",
       "    <tr style=\"text-align: right;\">\n",
       "      <th></th>\n",
       "      <th>song_title</th>\n",
       "      <th>artist</th>\n",
       "      <th>danceability</th>\n",
       "      <th>energy</th>\n",
       "      <th>key</th>\n",
       "      <th>loudness</th>\n",
       "      <th>mode</th>\n",
       "      <th>speechiness</th>\n",
       "      <th>acousticness</th>\n",
       "      <th>instrumentalness</th>\n",
       "      <th>liveness</th>\n",
       "      <th>valence</th>\n",
       "      <th>tempo</th>\n",
       "      <th>type</th>\n",
       "      <th>id</th>\n",
       "      <th>uri</th>\n",
       "      <th>track_href</th>\n",
       "      <th>analysis_url</th>\n",
       "      <th>duration_ms</th>\n",
       "      <th>time_signature</th>\n",
       "    </tr>\n",
       "  </thead>\n",
       "  <tbody>\n",
       "    <tr>\n",
       "      <th>0</th>\n",
       "      <td>Peaches (feat. Daniel Caesar &amp; Giveon)</td>\n",
       "      <td>Justin Bieber</td>\n",
       "      <td>0.698</td>\n",
       "      <td>0.684</td>\n",
       "      <td>0</td>\n",
       "      <td>-6.239</td>\n",
       "      <td>1</td>\n",
       "      <td>0.0972</td>\n",
       "      <td>0.374</td>\n",
       "      <td>0</td>\n",
       "      <td>0.434</td>\n",
       "      <td>0.526</td>\n",
       "      <td>89.926</td>\n",
       "      <td>audio_features</td>\n",
       "      <td>1ZrpvgLUBHozH2PLbc4SrO</td>\n",
       "      <td>spotify:track:1ZrpvgLUBHozH2PLbc4SrO</td>\n",
       "      <td>https://api.spotify.com/v1/tracks/1ZrpvgLUBHoz...</td>\n",
       "      <td>https://api.spotify.com/v1/audio-analysis/1Zrp...</td>\n",
       "      <td>198082</td>\n",
       "      <td>4</td>\n",
       "    </tr>\n",
       "    <tr>\n",
       "      <th>1</th>\n",
       "      <td>Sunday Best</td>\n",
       "      <td>Surfaces</td>\n",
       "      <td>0.878</td>\n",
       "      <td>0.525</td>\n",
       "      <td>5</td>\n",
       "      <td>-6.832</td>\n",
       "      <td>1</td>\n",
       "      <td>0.0578</td>\n",
       "      <td>0.183</td>\n",
       "      <td>0</td>\n",
       "      <td>0.0714</td>\n",
       "      <td>0.694</td>\n",
       "      <td>112.022</td>\n",
       "      <td>audio_features</td>\n",
       "      <td>1Cv1YLb4q0RzL6pybtaMLo</td>\n",
       "      <td>spotify:track:1Cv1YLb4q0RzL6pybtaMLo</td>\n",
       "      <td>https://api.spotify.com/v1/tracks/1Cv1YLb4q0Rz...</td>\n",
       "      <td>https://api.spotify.com/v1/audio-analysis/1Cv1...</td>\n",
       "      <td>158571</td>\n",
       "      <td>4</td>\n",
       "    </tr>\n",
       "    <tr>\n",
       "      <th>2</th>\n",
       "      <td>Scared of the Dark (feat. XXXTENTACION)</td>\n",
       "      <td>Lil Wayne</td>\n",
       "      <td>0.443</td>\n",
       "      <td>0.623</td>\n",
       "      <td>0</td>\n",
       "      <td>-6.717</td>\n",
       "      <td>0</td>\n",
       "      <td>0.0718</td>\n",
       "      <td>0.0468</td>\n",
       "      <td>0</td>\n",
       "      <td>0.247</td>\n",
       "      <td>0.156</td>\n",
       "      <td>79.365</td>\n",
       "      <td>audio_features</td>\n",
       "      <td>3vWzyGTu6Ovo1GdrcJqH6e</td>\n",
       "      <td>spotify:track:3vWzyGTu6Ovo1GdrcJqH6e</td>\n",
       "      <td>https://api.spotify.com/v1/tracks/3vWzyGTu6Ovo...</td>\n",
       "      <td>https://api.spotify.com/v1/audio-analysis/3vWz...</td>\n",
       "      <td>233000</td>\n",
       "      <td>4</td>\n",
       "    </tr>\n",
       "    <tr>\n",
       "      <th>3</th>\n",
       "      <td>Stranger</td>\n",
       "      <td>jfarr</td>\n",
       "      <td>0.652</td>\n",
       "      <td>0.635</td>\n",
       "      <td>9</td>\n",
       "      <td>-5.742</td>\n",
       "      <td>1</td>\n",
       "      <td>0.0727</td>\n",
       "      <td>0.464</td>\n",
       "      <td>0.0188</td>\n",
       "      <td>0.0879</td>\n",
       "      <td>0.262</td>\n",
       "      <td>190.009</td>\n",
       "      <td>audio_features</td>\n",
       "      <td>5YWs2htc7xZ3O9IO1m7rQ8</td>\n",
       "      <td>spotify:track:5YWs2htc7xZ3O9IO1m7rQ8</td>\n",
       "      <td>https://api.spotify.com/v1/tracks/5YWs2htc7xZ3...</td>\n",
       "      <td>https://api.spotify.com/v1/audio-analysis/5YWs...</td>\n",
       "      <td>209224</td>\n",
       "      <td>4</td>\n",
       "    </tr>\n",
       "    <tr>\n",
       "      <th>4</th>\n",
       "      <td>Fearless Pt. II</td>\n",
       "      <td>Lost Sky</td>\n",
       "      <td>0.73</td>\n",
       "      <td>0.928</td>\n",
       "      <td>6</td>\n",
       "      <td>-4.28</td>\n",
       "      <td>1</td>\n",
       "      <td>0.0515</td>\n",
       "      <td>0.285</td>\n",
       "      <td>0.00131</td>\n",
       "      <td>0.119</td>\n",
       "      <td>0.325</td>\n",
       "      <td>110.002</td>\n",
       "      <td>audio_features</td>\n",
       "      <td>649AbXFbU0UDYe2bhs9jSe</td>\n",
       "      <td>spotify:track:649AbXFbU0UDYe2bhs9jSe</td>\n",
       "      <td>https://api.spotify.com/v1/tracks/649AbXFbU0UD...</td>\n",
       "      <td>https://api.spotify.com/v1/audio-analysis/649A...</td>\n",
       "      <td>194182</td>\n",
       "      <td>4</td>\n",
       "    </tr>\n",
       "  </tbody>\n",
       "</table>\n",
       "</div>"
      ],
      "text/plain": [
       "                                song_title         artist danceability energy  \\\n",
       "0   Peaches (feat. Daniel Caesar & Giveon)  Justin Bieber        0.698  0.684   \n",
       "1                              Sunday Best       Surfaces        0.878  0.525   \n",
       "2  Scared of the Dark (feat. XXXTENTACION)      Lil Wayne        0.443  0.623   \n",
       "3                                 Stranger          jfarr        0.652  0.635   \n",
       "4                          Fearless Pt. II       Lost Sky         0.73  0.928   \n",
       "\n",
       "  key loudness mode speechiness acousticness instrumentalness liveness  \\\n",
       "0   0   -6.239    1      0.0972        0.374                0    0.434   \n",
       "1   5   -6.832    1      0.0578        0.183                0   0.0714   \n",
       "2   0   -6.717    0      0.0718       0.0468                0    0.247   \n",
       "3   9   -5.742    1      0.0727        0.464           0.0188   0.0879   \n",
       "4   6    -4.28    1      0.0515        0.285          0.00131    0.119   \n",
       "\n",
       "  valence    tempo            type                      id  \\\n",
       "0   0.526   89.926  audio_features  1ZrpvgLUBHozH2PLbc4SrO   \n",
       "1   0.694  112.022  audio_features  1Cv1YLb4q0RzL6pybtaMLo   \n",
       "2   0.156   79.365  audio_features  3vWzyGTu6Ovo1GdrcJqH6e   \n",
       "3   0.262  190.009  audio_features  5YWs2htc7xZ3O9IO1m7rQ8   \n",
       "4   0.325  110.002  audio_features  649AbXFbU0UDYe2bhs9jSe   \n",
       "\n",
       "                                    uri  \\\n",
       "0  spotify:track:1ZrpvgLUBHozH2PLbc4SrO   \n",
       "1  spotify:track:1Cv1YLb4q0RzL6pybtaMLo   \n",
       "2  spotify:track:3vWzyGTu6Ovo1GdrcJqH6e   \n",
       "3  spotify:track:5YWs2htc7xZ3O9IO1m7rQ8   \n",
       "4  spotify:track:649AbXFbU0UDYe2bhs9jSe   \n",
       "\n",
       "                                          track_href  \\\n",
       "0  https://api.spotify.com/v1/tracks/1ZrpvgLUBHoz...   \n",
       "1  https://api.spotify.com/v1/tracks/1Cv1YLb4q0Rz...   \n",
       "2  https://api.spotify.com/v1/tracks/3vWzyGTu6Ovo...   \n",
       "3  https://api.spotify.com/v1/tracks/5YWs2htc7xZ3...   \n",
       "4  https://api.spotify.com/v1/tracks/649AbXFbU0UD...   \n",
       "\n",
       "                                        analysis_url duration_ms  \\\n",
       "0  https://api.spotify.com/v1/audio-analysis/1Zrp...      198082   \n",
       "1  https://api.spotify.com/v1/audio-analysis/1Cv1...      158571   \n",
       "2  https://api.spotify.com/v1/audio-analysis/3vWz...      233000   \n",
       "3  https://api.spotify.com/v1/audio-analysis/5YWs...      209224   \n",
       "4  https://api.spotify.com/v1/audio-analysis/649A...      194182   \n",
       "\n",
       "  time_signature  \n",
       "0              4  \n",
       "1              4  \n",
       "2              4  \n",
       "3              4  \n",
       "4              4  "
      ]
     },
     "execution_count": 51,
     "metadata": {},
     "output_type": "execute_result"
    }
   ],
   "source": [
    "all_tracks = get_df(all_tracks)\n",
    "all_tracks.head()"
   ]
  },
  {
   "cell_type": "markdown",
   "id": "c9cf115e",
   "metadata": {},
   "source": [
    "#### Saving the DataFrame in a *.csv format file"
   ]
  },
  {
   "cell_type": "code",
   "execution_count": 52,
   "id": "294aafc9",
   "metadata": {},
   "outputs": [],
   "source": [
    "all_tracks.to_csv('all_tracks.csv', index=False)"
   ]
  },
  {
   "cell_type": "markdown",
   "id": "6999f36a",
   "metadata": {},
   "source": [
    "#### Loading the dataset directly from the *.csv file"
   ]
  },
  {
   "cell_type": "code",
   "execution_count": 72,
   "id": "658083cb",
   "metadata": {},
   "outputs": [],
   "source": [
    "data = pd.read_csv('all_tracks.csv')"
   ]
  },
  {
   "cell_type": "markdown",
   "id": "f85c4cee",
   "metadata": {},
   "source": [
    "#### Understanding the information before cleaning"
   ]
  },
  {
   "cell_type": "code",
   "execution_count": 73,
   "id": "cf4d1088",
   "metadata": {
    "scrolled": true
   },
   "outputs": [
    {
     "data": {
      "text/html": [
       "<div>\n",
       "<style scoped>\n",
       "    .dataframe tbody tr th:only-of-type {\n",
       "        vertical-align: middle;\n",
       "    }\n",
       "\n",
       "    .dataframe tbody tr th {\n",
       "        vertical-align: top;\n",
       "    }\n",
       "\n",
       "    .dataframe thead th {\n",
       "        text-align: right;\n",
       "    }\n",
       "</style>\n",
       "<table border=\"1\" class=\"dataframe\">\n",
       "  <thead>\n",
       "    <tr style=\"text-align: right;\">\n",
       "      <th></th>\n",
       "      <th>song_title</th>\n",
       "      <th>artist</th>\n",
       "      <th>danceability</th>\n",
       "      <th>energy</th>\n",
       "      <th>key</th>\n",
       "      <th>loudness</th>\n",
       "      <th>mode</th>\n",
       "      <th>speechiness</th>\n",
       "      <th>acousticness</th>\n",
       "      <th>instrumentalness</th>\n",
       "      <th>liveness</th>\n",
       "      <th>valence</th>\n",
       "      <th>tempo</th>\n",
       "      <th>type</th>\n",
       "      <th>id</th>\n",
       "      <th>uri</th>\n",
       "      <th>track_href</th>\n",
       "      <th>analysis_url</th>\n",
       "      <th>duration_ms</th>\n",
       "      <th>time_signature</th>\n",
       "    </tr>\n",
       "  </thead>\n",
       "  <tbody>\n",
       "    <tr>\n",
       "      <th>0</th>\n",
       "      <td>Peaches (feat. Daniel Caesar &amp; Giveon)</td>\n",
       "      <td>Justin Bieber</td>\n",
       "      <td>0.698</td>\n",
       "      <td>0.684</td>\n",
       "      <td>0.0</td>\n",
       "      <td>-6.239</td>\n",
       "      <td>1.0</td>\n",
       "      <td>0.0972</td>\n",
       "      <td>0.3740</td>\n",
       "      <td>0.0</td>\n",
       "      <td>0.4340</td>\n",
       "      <td>0.526</td>\n",
       "      <td>89.926</td>\n",
       "      <td>audio_features</td>\n",
       "      <td>1ZrpvgLUBHozH2PLbc4SrO</td>\n",
       "      <td>spotify:track:1ZrpvgLUBHozH2PLbc4SrO</td>\n",
       "      <td>https://api.spotify.com/v1/tracks/1ZrpvgLUBHoz...</td>\n",
       "      <td>https://api.spotify.com/v1/audio-analysis/1Zrp...</td>\n",
       "      <td>198082.0</td>\n",
       "      <td>4.0</td>\n",
       "    </tr>\n",
       "    <tr>\n",
       "      <th>1</th>\n",
       "      <td>Sunday Best</td>\n",
       "      <td>Surfaces</td>\n",
       "      <td>0.878</td>\n",
       "      <td>0.525</td>\n",
       "      <td>5.0</td>\n",
       "      <td>-6.832</td>\n",
       "      <td>1.0</td>\n",
       "      <td>0.0578</td>\n",
       "      <td>0.1830</td>\n",
       "      <td>0.0</td>\n",
       "      <td>0.0714</td>\n",
       "      <td>0.694</td>\n",
       "      <td>112.022</td>\n",
       "      <td>audio_features</td>\n",
       "      <td>1Cv1YLb4q0RzL6pybtaMLo</td>\n",
       "      <td>spotify:track:1Cv1YLb4q0RzL6pybtaMLo</td>\n",
       "      <td>https://api.spotify.com/v1/tracks/1Cv1YLb4q0Rz...</td>\n",
       "      <td>https://api.spotify.com/v1/audio-analysis/1Cv1...</td>\n",
       "      <td>158571.0</td>\n",
       "      <td>4.0</td>\n",
       "    </tr>\n",
       "    <tr>\n",
       "      <th>2</th>\n",
       "      <td>Scared of the Dark (feat. XXXTENTACION)</td>\n",
       "      <td>Lil Wayne</td>\n",
       "      <td>0.443</td>\n",
       "      <td>0.623</td>\n",
       "      <td>0.0</td>\n",
       "      <td>-6.717</td>\n",
       "      <td>0.0</td>\n",
       "      <td>0.0718</td>\n",
       "      <td>0.0468</td>\n",
       "      <td>0.0</td>\n",
       "      <td>0.2470</td>\n",
       "      <td>0.156</td>\n",
       "      <td>79.365</td>\n",
       "      <td>audio_features</td>\n",
       "      <td>3vWzyGTu6Ovo1GdrcJqH6e</td>\n",
       "      <td>spotify:track:3vWzyGTu6Ovo1GdrcJqH6e</td>\n",
       "      <td>https://api.spotify.com/v1/tracks/3vWzyGTu6Ovo...</td>\n",
       "      <td>https://api.spotify.com/v1/audio-analysis/3vWz...</td>\n",
       "      <td>233000.0</td>\n",
       "      <td>4.0</td>\n",
       "    </tr>\n",
       "  </tbody>\n",
       "</table>\n",
       "</div>"
      ],
      "text/plain": [
       "                                song_title         artist  danceability  \\\n",
       "0   Peaches (feat. Daniel Caesar & Giveon)  Justin Bieber         0.698   \n",
       "1                              Sunday Best       Surfaces         0.878   \n",
       "2  Scared of the Dark (feat. XXXTENTACION)      Lil Wayne         0.443   \n",
       "\n",
       "   energy  key  loudness  mode  speechiness  acousticness  instrumentalness  \\\n",
       "0   0.684  0.0    -6.239   1.0       0.0972        0.3740               0.0   \n",
       "1   0.525  5.0    -6.832   1.0       0.0578        0.1830               0.0   \n",
       "2   0.623  0.0    -6.717   0.0       0.0718        0.0468               0.0   \n",
       "\n",
       "   liveness  valence    tempo            type                      id  \\\n",
       "0    0.4340    0.526   89.926  audio_features  1ZrpvgLUBHozH2PLbc4SrO   \n",
       "1    0.0714    0.694  112.022  audio_features  1Cv1YLb4q0RzL6pybtaMLo   \n",
       "2    0.2470    0.156   79.365  audio_features  3vWzyGTu6Ovo1GdrcJqH6e   \n",
       "\n",
       "                                    uri  \\\n",
       "0  spotify:track:1ZrpvgLUBHozH2PLbc4SrO   \n",
       "1  spotify:track:1Cv1YLb4q0RzL6pybtaMLo   \n",
       "2  spotify:track:3vWzyGTu6Ovo1GdrcJqH6e   \n",
       "\n",
       "                                          track_href  \\\n",
       "0  https://api.spotify.com/v1/tracks/1ZrpvgLUBHoz...   \n",
       "1  https://api.spotify.com/v1/tracks/1Cv1YLb4q0Rz...   \n",
       "2  https://api.spotify.com/v1/tracks/3vWzyGTu6Ovo...   \n",
       "\n",
       "                                        analysis_url  duration_ms  \\\n",
       "0  https://api.spotify.com/v1/audio-analysis/1Zrp...     198082.0   \n",
       "1  https://api.spotify.com/v1/audio-analysis/1Cv1...     158571.0   \n",
       "2  https://api.spotify.com/v1/audio-analysis/3vWz...     233000.0   \n",
       "\n",
       "   time_signature  \n",
       "0             4.0  \n",
       "1             4.0  \n",
       "2             4.0  "
      ]
     },
     "metadata": {},
     "output_type": "display_data"
    },
    {
     "data": {
      "text/html": [
       "<div>\n",
       "<style scoped>\n",
       "    .dataframe tbody tr th:only-of-type {\n",
       "        vertical-align: middle;\n",
       "    }\n",
       "\n",
       "    .dataframe tbody tr th {\n",
       "        vertical-align: top;\n",
       "    }\n",
       "\n",
       "    .dataframe thead th {\n",
       "        text-align: right;\n",
       "    }\n",
       "</style>\n",
       "<table border=\"1\" class=\"dataframe\">\n",
       "  <thead>\n",
       "    <tr style=\"text-align: right;\">\n",
       "      <th></th>\n",
       "      <th>song_title</th>\n",
       "      <th>artist</th>\n",
       "      <th>danceability</th>\n",
       "      <th>energy</th>\n",
       "      <th>key</th>\n",
       "      <th>loudness</th>\n",
       "      <th>mode</th>\n",
       "      <th>speechiness</th>\n",
       "      <th>acousticness</th>\n",
       "      <th>instrumentalness</th>\n",
       "      <th>liveness</th>\n",
       "      <th>valence</th>\n",
       "      <th>tempo</th>\n",
       "      <th>type</th>\n",
       "      <th>id</th>\n",
       "      <th>uri</th>\n",
       "      <th>track_href</th>\n",
       "      <th>analysis_url</th>\n",
       "      <th>duration_ms</th>\n",
       "      <th>time_signature</th>\n",
       "    </tr>\n",
       "  </thead>\n",
       "  <tbody>\n",
       "    <tr>\n",
       "      <th>31594</th>\n",
       "      <td>King For A Day</td>\n",
       "      <td>Pierce The Veil</td>\n",
       "      <td>0.403</td>\n",
       "      <td>0.965</td>\n",
       "      <td>6.0</td>\n",
       "      <td>-2.238</td>\n",
       "      <td>1.0</td>\n",
       "      <td>0.0964</td>\n",
       "      <td>0.000038</td>\n",
       "      <td>0.000276</td>\n",
       "      <td>0.3410</td>\n",
       "      <td>0.431</td>\n",
       "      <td>112.363</td>\n",
       "      <td>audio_features</td>\n",
       "      <td>1IT0WQk5J8NsaeII8ktdlZ</td>\n",
       "      <td>spotify:track:1IT0WQk5J8NsaeII8ktdlZ</td>\n",
       "      <td>https://api.spotify.com/v1/tracks/1IT0WQk5J8Ns...</td>\n",
       "      <td>https://api.spotify.com/v1/audio-analysis/1IT0...</td>\n",
       "      <td>236293.0</td>\n",
       "      <td>4.0</td>\n",
       "    </tr>\n",
       "    <tr>\n",
       "      <th>31595</th>\n",
       "      <td>Love You From a Distance</td>\n",
       "      <td>Ashley Kutcher</td>\n",
       "      <td>0.333</td>\n",
       "      <td>0.538</td>\n",
       "      <td>4.0</td>\n",
       "      <td>-8.653</td>\n",
       "      <td>1.0</td>\n",
       "      <td>0.0325</td>\n",
       "      <td>0.557000</td>\n",
       "      <td>0.000000</td>\n",
       "      <td>0.0977</td>\n",
       "      <td>0.630</td>\n",
       "      <td>149.377</td>\n",
       "      <td>audio_features</td>\n",
       "      <td>4bpyaPa1xruVgE2GtsYbIW</td>\n",
       "      <td>spotify:track:4bpyaPa1xruVgE2GtsYbIW</td>\n",
       "      <td>https://api.spotify.com/v1/tracks/4bpyaPa1xruV...</td>\n",
       "      <td>https://api.spotify.com/v1/audio-analysis/4bpy...</td>\n",
       "      <td>204000.0</td>\n",
       "      <td>4.0</td>\n",
       "    </tr>\n",
       "    <tr>\n",
       "      <th>31596</th>\n",
       "      <td>29</td>\n",
       "      <td>Demi Lovato</td>\n",
       "      <td>0.322</td>\n",
       "      <td>0.698</td>\n",
       "      <td>1.0</td>\n",
       "      <td>-3.812</td>\n",
       "      <td>0.0</td>\n",
       "      <td>0.0542</td>\n",
       "      <td>0.005070</td>\n",
       "      <td>0.000000</td>\n",
       "      <td>0.2490</td>\n",
       "      <td>0.288</td>\n",
       "      <td>183.963</td>\n",
       "      <td>audio_features</td>\n",
       "      <td>3gXWe15nwrjfhjYQ5RqLx7</td>\n",
       "      <td>spotify:track:3gXWe15nwrjfhjYQ5RqLx7</td>\n",
       "      <td>https://api.spotify.com/v1/tracks/3gXWe15nwrjf...</td>\n",
       "      <td>https://api.spotify.com/v1/audio-analysis/3gXW...</td>\n",
       "      <td>163028.0</td>\n",
       "      <td>4.0</td>\n",
       "    </tr>\n",
       "  </tbody>\n",
       "</table>\n",
       "</div>"
      ],
      "text/plain": [
       "                     song_title           artist  danceability  energy  key  \\\n",
       "31594            King For A Day  Pierce The Veil         0.403   0.965  6.0   \n",
       "31595  Love You From a Distance   Ashley Kutcher         0.333   0.538  4.0   \n",
       "31596                        29      Demi Lovato         0.322   0.698  1.0   \n",
       "\n",
       "       loudness  mode  speechiness  acousticness  instrumentalness  liveness  \\\n",
       "31594    -2.238   1.0       0.0964      0.000038          0.000276    0.3410   \n",
       "31595    -8.653   1.0       0.0325      0.557000          0.000000    0.0977   \n",
       "31596    -3.812   0.0       0.0542      0.005070          0.000000    0.2490   \n",
       "\n",
       "       valence    tempo            type                      id  \\\n",
       "31594    0.431  112.363  audio_features  1IT0WQk5J8NsaeII8ktdlZ   \n",
       "31595    0.630  149.377  audio_features  4bpyaPa1xruVgE2GtsYbIW   \n",
       "31596    0.288  183.963  audio_features  3gXWe15nwrjfhjYQ5RqLx7   \n",
       "\n",
       "                                        uri  \\\n",
       "31594  spotify:track:1IT0WQk5J8NsaeII8ktdlZ   \n",
       "31595  spotify:track:4bpyaPa1xruVgE2GtsYbIW   \n",
       "31596  spotify:track:3gXWe15nwrjfhjYQ5RqLx7   \n",
       "\n",
       "                                              track_href  \\\n",
       "31594  https://api.spotify.com/v1/tracks/1IT0WQk5J8Ns...   \n",
       "31595  https://api.spotify.com/v1/tracks/4bpyaPa1xruV...   \n",
       "31596  https://api.spotify.com/v1/tracks/3gXWe15nwrjf...   \n",
       "\n",
       "                                            analysis_url  duration_ms  \\\n",
       "31594  https://api.spotify.com/v1/audio-analysis/1IT0...     236293.0   \n",
       "31595  https://api.spotify.com/v1/audio-analysis/4bpy...     204000.0   \n",
       "31596  https://api.spotify.com/v1/audio-analysis/3gXW...     163028.0   \n",
       "\n",
       "       time_signature  \n",
       "31594             4.0  \n",
       "31595             4.0  \n",
       "31596             4.0  "
      ]
     },
     "metadata": {},
     "output_type": "display_data"
    }
   ],
   "source": [
    "display(data.head(3))\n",
    "display(data.tail(3))"
   ]
  },
  {
   "cell_type": "code",
   "execution_count": 74,
   "id": "b861ad17",
   "metadata": {},
   "outputs": [
    {
     "data": {
      "text/plain": [
       "(31597, 20)"
      ]
     },
     "execution_count": 74,
     "metadata": {},
     "output_type": "execute_result"
    }
   ],
   "source": [
    "#data.columns\n",
    "data.shape\n",
    "#data.nunique()/len(data)*100\n",
    "#data.dtypes\n",
    "#data.describe().T\n",
    "#data.isna().sum()/len(data)*100"
   ]
  },
  {
   "cell_type": "code",
   "execution_count": 75,
   "id": "815129bd",
   "metadata": {},
   "outputs": [
    {
     "data": {
      "text/plain": [
       "(28168, 20)"
      ]
     },
     "execution_count": 75,
     "metadata": {},
     "output_type": "execute_result"
    }
   ],
   "source": [
    "# Removing duplicate values: songs that came from multiple playlists.\n",
    "\n",
    "data = data.drop_duplicates()\n",
    "data.shape"
   ]
  },
  {
   "cell_type": "code",
   "execution_count": 77,
   "id": "33620237",
   "metadata": {},
   "outputs": [
    {
     "data": {
      "text/plain": [
       "song_title          0.014201\n",
       "artist              0.014201\n",
       "danceability        0.085203\n",
       "energy              0.085203\n",
       "key                 0.085203\n",
       "loudness            0.085203\n",
       "mode                0.085203\n",
       "speechiness         0.085203\n",
       "acousticness        0.085203\n",
       "instrumentalness    0.085203\n",
       "liveness            0.085203\n",
       "valence             0.085203\n",
       "tempo               0.085203\n",
       "type                0.085203\n",
       "id                  0.085203\n",
       "uri                 0.085203\n",
       "track_href          0.085203\n",
       "analysis_url        0.085203\n",
       "duration_ms         0.085203\n",
       "time_signature      0.085203\n",
       "dtype: float64"
      ]
     },
     "execution_count": 77,
     "metadata": {},
     "output_type": "execute_result"
    }
   ],
   "source": [
    "# Checking for NaN values\n",
    "\n",
    "data.isna().sum()/len(data)*100"
   ]
  },
  {
   "cell_type": "code",
   "execution_count": 78,
   "id": "276295d0",
   "metadata": {},
   "outputs": [],
   "source": [
    "# Removing NaN rows\n",
    "\n",
    "data = data.dropna()"
   ]
  },
  {
   "cell_type": "code",
   "execution_count": 79,
   "id": "88d9a9a6",
   "metadata": {},
   "outputs": [
    {
     "data": {
      "text/plain": [
       "(28140, 20)"
      ]
     },
     "execution_count": 79,
     "metadata": {},
     "output_type": "execute_result"
    }
   ],
   "source": [
    "data.shape"
   ]
  },
  {
   "cell_type": "code",
   "execution_count": 80,
   "id": "80740d7a",
   "metadata": {},
   "outputs": [
    {
     "data": {
      "text/plain": [
       "song_title          0.0\n",
       "artist              0.0\n",
       "danceability        0.0\n",
       "energy              0.0\n",
       "key                 0.0\n",
       "loudness            0.0\n",
       "mode                0.0\n",
       "speechiness         0.0\n",
       "acousticness        0.0\n",
       "instrumentalness    0.0\n",
       "liveness            0.0\n",
       "valence             0.0\n",
       "tempo               0.0\n",
       "type                0.0\n",
       "id                  0.0\n",
       "uri                 0.0\n",
       "track_href          0.0\n",
       "analysis_url        0.0\n",
       "duration_ms         0.0\n",
       "time_signature      0.0\n",
       "dtype: float64"
      ]
     },
     "execution_count": 80,
     "metadata": {},
     "output_type": "execute_result"
    }
   ],
   "source": [
    "data.isna().sum()/len(data)*100"
   ]
  },
  {
   "cell_type": "markdown",
   "id": "481456a9",
   "metadata": {},
   "source": [
    "# Clustering: K-means"
   ]
  },
  {
   "cell_type": "markdown",
   "id": "aa3e9ee6",
   "metadata": {},
   "source": [
    "#### Splitting numericals and categoricals. "
   ]
  },
  {
   "cell_type": "code",
   "execution_count": null,
   "id": "90313891",
   "metadata": {},
   "outputs": [],
   "source": [
    "# K-means clustering can only handle numerical values; it is using coordinates to locate the points.\n",
    "# It is therefore necessary to normalize dimensions.\n",
    "# Splitting numericals and categoricals and then scaling numerical values."
   ]
  },
  {
   "cell_type": "code",
   "execution_count": 85,
   "id": "82dd89f8",
   "metadata": {},
   "outputs": [
    {
     "data": {
      "text/html": [
       "<div>\n",
       "<style scoped>\n",
       "    .dataframe tbody tr th:only-of-type {\n",
       "        vertical-align: middle;\n",
       "    }\n",
       "\n",
       "    .dataframe tbody tr th {\n",
       "        vertical-align: top;\n",
       "    }\n",
       "\n",
       "    .dataframe thead th {\n",
       "        text-align: right;\n",
       "    }\n",
       "</style>\n",
       "<table border=\"1\" class=\"dataframe\">\n",
       "  <thead>\n",
       "    <tr style=\"text-align: right;\">\n",
       "      <th></th>\n",
       "      <th>danceability</th>\n",
       "      <th>energy</th>\n",
       "      <th>key</th>\n",
       "      <th>loudness</th>\n",
       "      <th>mode</th>\n",
       "      <th>speechiness</th>\n",
       "      <th>acousticness</th>\n",
       "      <th>instrumentalness</th>\n",
       "      <th>liveness</th>\n",
       "      <th>valence</th>\n",
       "      <th>tempo</th>\n",
       "      <th>duration_ms</th>\n",
       "      <th>time_signature</th>\n",
       "    </tr>\n",
       "  </thead>\n",
       "  <tbody>\n",
       "    <tr>\n",
       "      <th>0</th>\n",
       "      <td>0.698</td>\n",
       "      <td>0.684</td>\n",
       "      <td>0.0</td>\n",
       "      <td>-6.239</td>\n",
       "      <td>1.0</td>\n",
       "      <td>0.0972</td>\n",
       "      <td>0.37400</td>\n",
       "      <td>0.000000</td>\n",
       "      <td>0.4340</td>\n",
       "      <td>0.526</td>\n",
       "      <td>89.926</td>\n",
       "      <td>198082.0</td>\n",
       "      <td>4.0</td>\n",
       "    </tr>\n",
       "    <tr>\n",
       "      <th>1</th>\n",
       "      <td>0.878</td>\n",
       "      <td>0.525</td>\n",
       "      <td>5.0</td>\n",
       "      <td>-6.832</td>\n",
       "      <td>1.0</td>\n",
       "      <td>0.0578</td>\n",
       "      <td>0.18300</td>\n",
       "      <td>0.000000</td>\n",
       "      <td>0.0714</td>\n",
       "      <td>0.694</td>\n",
       "      <td>112.022</td>\n",
       "      <td>158571.0</td>\n",
       "      <td>4.0</td>\n",
       "    </tr>\n",
       "    <tr>\n",
       "      <th>2</th>\n",
       "      <td>0.443</td>\n",
       "      <td>0.623</td>\n",
       "      <td>0.0</td>\n",
       "      <td>-6.717</td>\n",
       "      <td>0.0</td>\n",
       "      <td>0.0718</td>\n",
       "      <td>0.04680</td>\n",
       "      <td>0.000000</td>\n",
       "      <td>0.2470</td>\n",
       "      <td>0.156</td>\n",
       "      <td>79.365</td>\n",
       "      <td>233000.0</td>\n",
       "      <td>4.0</td>\n",
       "    </tr>\n",
       "    <tr>\n",
       "      <th>3</th>\n",
       "      <td>0.652</td>\n",
       "      <td>0.635</td>\n",
       "      <td>9.0</td>\n",
       "      <td>-5.742</td>\n",
       "      <td>1.0</td>\n",
       "      <td>0.0727</td>\n",
       "      <td>0.46400</td>\n",
       "      <td>0.018800</td>\n",
       "      <td>0.0879</td>\n",
       "      <td>0.262</td>\n",
       "      <td>190.009</td>\n",
       "      <td>209224.0</td>\n",
       "      <td>4.0</td>\n",
       "    </tr>\n",
       "    <tr>\n",
       "      <th>4</th>\n",
       "      <td>0.730</td>\n",
       "      <td>0.928</td>\n",
       "      <td>6.0</td>\n",
       "      <td>-4.280</td>\n",
       "      <td>1.0</td>\n",
       "      <td>0.0515</td>\n",
       "      <td>0.28500</td>\n",
       "      <td>0.001310</td>\n",
       "      <td>0.1190</td>\n",
       "      <td>0.325</td>\n",
       "      <td>110.002</td>\n",
       "      <td>194182.0</td>\n",
       "      <td>4.0</td>\n",
       "    </tr>\n",
       "    <tr>\n",
       "      <th>...</th>\n",
       "      <td>...</td>\n",
       "      <td>...</td>\n",
       "      <td>...</td>\n",
       "      <td>...</td>\n",
       "      <td>...</td>\n",
       "      <td>...</td>\n",
       "      <td>...</td>\n",
       "      <td>...</td>\n",
       "      <td>...</td>\n",
       "      <td>...</td>\n",
       "      <td>...</td>\n",
       "      <td>...</td>\n",
       "      <td>...</td>\n",
       "    </tr>\n",
       "    <tr>\n",
       "      <th>31591</th>\n",
       "      <td>0.468</td>\n",
       "      <td>0.779</td>\n",
       "      <td>9.0</td>\n",
       "      <td>-4.839</td>\n",
       "      <td>1.0</td>\n",
       "      <td>0.0779</td>\n",
       "      <td>0.11200</td>\n",
       "      <td>0.000373</td>\n",
       "      <td>0.1010</td>\n",
       "      <td>0.260</td>\n",
       "      <td>173.799</td>\n",
       "      <td>217747.0</td>\n",
       "      <td>4.0</td>\n",
       "    </tr>\n",
       "    <tr>\n",
       "      <th>31592</th>\n",
       "      <td>0.777</td>\n",
       "      <td>0.658</td>\n",
       "      <td>0.0</td>\n",
       "      <td>-5.191</td>\n",
       "      <td>1.0</td>\n",
       "      <td>0.0540</td>\n",
       "      <td>0.07670</td>\n",
       "      <td>0.000000</td>\n",
       "      <td>0.0901</td>\n",
       "      <td>0.633</td>\n",
       "      <td>110.048</td>\n",
       "      <td>190360.0</td>\n",
       "      <td>4.0</td>\n",
       "    </tr>\n",
       "    <tr>\n",
       "      <th>31593</th>\n",
       "      <td>0.640</td>\n",
       "      <td>0.553</td>\n",
       "      <td>2.0</td>\n",
       "      <td>-6.420</td>\n",
       "      <td>0.0</td>\n",
       "      <td>0.0411</td>\n",
       "      <td>0.05790</td>\n",
       "      <td>0.000000</td>\n",
       "      <td>0.0914</td>\n",
       "      <td>0.486</td>\n",
       "      <td>81.992</td>\n",
       "      <td>148471.0</td>\n",
       "      <td>4.0</td>\n",
       "    </tr>\n",
       "    <tr>\n",
       "      <th>31595</th>\n",
       "      <td>0.333</td>\n",
       "      <td>0.538</td>\n",
       "      <td>4.0</td>\n",
       "      <td>-8.653</td>\n",
       "      <td>1.0</td>\n",
       "      <td>0.0325</td>\n",
       "      <td>0.55700</td>\n",
       "      <td>0.000000</td>\n",
       "      <td>0.0977</td>\n",
       "      <td>0.630</td>\n",
       "      <td>149.377</td>\n",
       "      <td>204000.0</td>\n",
       "      <td>4.0</td>\n",
       "    </tr>\n",
       "    <tr>\n",
       "      <th>31596</th>\n",
       "      <td>0.322</td>\n",
       "      <td>0.698</td>\n",
       "      <td>1.0</td>\n",
       "      <td>-3.812</td>\n",
       "      <td>0.0</td>\n",
       "      <td>0.0542</td>\n",
       "      <td>0.00507</td>\n",
       "      <td>0.000000</td>\n",
       "      <td>0.2490</td>\n",
       "      <td>0.288</td>\n",
       "      <td>183.963</td>\n",
       "      <td>163028.0</td>\n",
       "      <td>4.0</td>\n",
       "    </tr>\n",
       "  </tbody>\n",
       "</table>\n",
       "<p>28140 rows × 13 columns</p>\n",
       "</div>"
      ],
      "text/plain": [
       "       danceability  energy  key  loudness  mode  speechiness  acousticness  \\\n",
       "0             0.698   0.684  0.0    -6.239   1.0       0.0972       0.37400   \n",
       "1             0.878   0.525  5.0    -6.832   1.0       0.0578       0.18300   \n",
       "2             0.443   0.623  0.0    -6.717   0.0       0.0718       0.04680   \n",
       "3             0.652   0.635  9.0    -5.742   1.0       0.0727       0.46400   \n",
       "4             0.730   0.928  6.0    -4.280   1.0       0.0515       0.28500   \n",
       "...             ...     ...  ...       ...   ...          ...           ...   \n",
       "31591         0.468   0.779  9.0    -4.839   1.0       0.0779       0.11200   \n",
       "31592         0.777   0.658  0.0    -5.191   1.0       0.0540       0.07670   \n",
       "31593         0.640   0.553  2.0    -6.420   0.0       0.0411       0.05790   \n",
       "31595         0.333   0.538  4.0    -8.653   1.0       0.0325       0.55700   \n",
       "31596         0.322   0.698  1.0    -3.812   0.0       0.0542       0.00507   \n",
       "\n",
       "       instrumentalness  liveness  valence    tempo  duration_ms  \\\n",
       "0              0.000000    0.4340    0.526   89.926     198082.0   \n",
       "1              0.000000    0.0714    0.694  112.022     158571.0   \n",
       "2              0.000000    0.2470    0.156   79.365     233000.0   \n",
       "3              0.018800    0.0879    0.262  190.009     209224.0   \n",
       "4              0.001310    0.1190    0.325  110.002     194182.0   \n",
       "...                 ...       ...      ...      ...          ...   \n",
       "31591          0.000373    0.1010    0.260  173.799     217747.0   \n",
       "31592          0.000000    0.0901    0.633  110.048     190360.0   \n",
       "31593          0.000000    0.0914    0.486   81.992     148471.0   \n",
       "31595          0.000000    0.0977    0.630  149.377     204000.0   \n",
       "31596          0.000000    0.2490    0.288  183.963     163028.0   \n",
       "\n",
       "       time_signature  \n",
       "0                 4.0  \n",
       "1                 4.0  \n",
       "2                 4.0  \n",
       "3                 4.0  \n",
       "4                 4.0  \n",
       "...               ...  \n",
       "31591             4.0  \n",
       "31592             4.0  \n",
       "31593             4.0  \n",
       "31595             4.0  \n",
       "31596             4.0  \n",
       "\n",
       "[28140 rows x 13 columns]"
      ]
     },
     "execution_count": 85,
     "metadata": {},
     "output_type": "execute_result"
    }
   ],
   "source": [
    "numericals = data.select_dtypes(np.number)\n",
    "numericals"
   ]
  },
  {
   "cell_type": "code",
   "execution_count": 91,
   "id": "e3c525b4",
   "metadata": {},
   "outputs": [],
   "source": [
    "categoricals = data.select_dtypes(object)\n",
    "#categoricals.head()"
   ]
  },
  {
   "cell_type": "markdown",
   "id": "d3aa4a9b",
   "metadata": {},
   "source": [
    "## Scaling/Normalizing"
   ]
  },
  {
   "cell_type": "markdown",
   "id": "d8215483",
   "metadata": {},
   "source": [
    "#### Scaling numerical values using StandardScaler"
   ]
  },
  {
   "cell_type": "code",
   "execution_count": 96,
   "id": "617e25b0",
   "metadata": {},
   "outputs": [],
   "source": [
    "from sklearn.preprocessing import StandardScaler\n",
    "scaled_num = StandardScaler().fit_transform(numericals)\n",
    "scaled_num = pd.DataFrame(scaled_num,columns=numericals.columns).head()"
   ]
  },
  {
   "cell_type": "markdown",
   "id": "a9a94cbd",
   "metadata": {},
   "source": [
    "#### Normalizing numerical values using MinMaxScaler"
   ]
  },
  {
   "cell_type": "code",
   "execution_count": 99,
   "id": "5892b355",
   "metadata": {},
   "outputs": [],
   "source": [
    "from sklearn.preprocessing import MinMaxScaler\n",
    "transformer = MinMaxScaler().fit(numericals)\n",
    "normal_num = transformer.transform(numericals)\n",
    "normal_num = pd.DataFrame(normal_num, columns=numericals.columns)"
   ]
  },
  {
   "cell_type": "markdown",
   "id": "c7a72569",
   "metadata": {},
   "source": [
    "## Finding K"
   ]
  },
  {
   "cell_type": "code",
   "execution_count": null,
   "id": "5b144a06",
   "metadata": {},
   "outputs": [],
   "source": [
    "# K-means needs the user to define the number of clusters.\n",
    "# It is then necessary to find the ideal number of clusters to then apply it to the algorithm."
   ]
  },
  {
   "cell_type": "markdown",
   "id": "844d08c5",
   "metadata": {},
   "source": [
    "### Finding K using values scaled with StandardScaler"
   ]
  },
  {
   "cell_type": "markdown",
   "id": "3e8ba663",
   "metadata": {},
   "source": [
    "#### 'Elbow method'"
   ]
  },
  {
   "cell_type": "code",
   "execution_count": 94,
   "id": "108ac0db",
   "metadata": {},
   "outputs": [
    {
     "data": {
      "text/plain": [
       "Text(0.5, 1.0, 'Elbow Method showing the optimal k')"
      ]
     },
     "execution_count": 94,
     "metadata": {},
     "output_type": "execute_result"
    },
    {
     "data": {
      "image/png": "[encoded data removed]",
      "text/plain": [
       "<Figure size 1152x576 with 1 Axes>"
      ]
     },
     "metadata": {
      "needs_background": "light"
     },
     "output_type": "display_data"
    }
   ],
   "source": [
    "K = range(2, 20)\n",
    "inertia = []\n",
    "\n",
    "for k in K:\n",
    "    kmeans = KMeans(n_clusters=k,\n",
    "                    random_state=1234)\n",
    "    kmeans.fit(scaled_num)\n",
    "    inertia.append(kmeans.inertia_)\n",
    "\n",
    "import matplotlib.pyplot as plt\n",
    "%matplotlib inline\n",
    "\n",
    "plt.figure(figsize=(16,8))\n",
    "plt.plot(K, inertia, 'bx-')\n",
    "plt.xlabel('k')\n",
    "plt.ylabel('inertia')\n",
    "plt.xticks(np.arange(min(K), max(K)+1, 1.0))\n",
    "plt.title('Elbow Method showing the optimal k')"
   ]
  },
  {
   "cell_type": "markdown",
   "id": "db817e3c",
   "metadata": {},
   "source": [
    "#### 'Silhouette score'"
   ]
  },
  {
   "cell_type": "code",
   "execution_count": 95,
   "id": "5976cb70",
   "metadata": {},
   "outputs": [
    {
     "data": {
      "text/plain": [
       "Text(0.5, 1.0, 'Slhouette score showing the optimal k')"
      ]
     },
     "execution_count": 95,
     "metadata": {},
     "output_type": "execute_result"
    },
    {
     "data": {
      "image/png": "[encoded data removed]",
      "text/plain": [
       "<Figure size 1152x576 with 1 Axes>"
      ]
     },
     "metadata": {
      "needs_background": "light"
     },
     "output_type": "display_data"
    }
   ],
   "source": [
    "from sklearn.metrics import silhouette_score\n",
    "K = range(2, 20)\n",
    "silhouette = []\n",
    "\n",
    "for k in K:\n",
    "    kmeans = KMeans(n_clusters=k,\n",
    "                    random_state=1234)\n",
    "    kmeans.fit(scaled_num)\n",
    "    silhouette.append(silhouette_score(scaled_num, kmeans.predict(scaled_num)))\n",
    "\n",
    "\n",
    "plt.figure(figsize=(16,8))\n",
    "plt.plot(K, silhouette, 'bx-')\n",
    "plt.xlabel('k')\n",
    "plt.ylabel('silhouette score')\n",
    "plt.xticks(np.arange(min(K), max(K)+1, 1.0))\n",
    "plt.title('Slhouette score showing the optimal k')"
   ]
  },
  {
   "cell_type": "markdown",
   "id": "02fb60d4",
   "metadata": {},
   "source": [
    "### Finding K using values scaled with MinMaxScaler"
   ]
  },
  {
   "cell_type": "markdown",
   "id": "55eef448",
   "metadata": {},
   "source": [
    "#### 'Elbow method'"
   ]
  },
  {
   "cell_type": "code",
   "execution_count": 100,
   "id": "8ab93a10",
   "metadata": {},
   "outputs": [
    {
     "data": {
      "text/plain": [
       "Text(0.5, 1.0, 'Elbow Method showing the optimal k')"
      ]
     },
     "execution_count": 100,
     "metadata": {},
     "output_type": "execute_result"
    },
    {
     "data": {
      "image/png": "[encoded data removed]",
      "text/plain": [
       "<Figure size 1152x576 with 1 Axes>"
      ]
     },
     "metadata": {
      "needs_background": "light"
     },
     "output_type": "display_data"
    }
   ],
   "source": [
    "K = range(2, 20)\n",
    "inertia = []\n",
    "\n",
    "for k in K:\n",
    "    kmeans = KMeans(n_clusters=k,\n",
    "                    random_state=1234)\n",
    "    kmeans.fit(normal_num)\n",
    "    inertia.append(kmeans.inertia_)\n",
    "\n",
    "import matplotlib.pyplot as plt\n",
    "%matplotlib inline\n",
    "\n",
    "plt.figure(figsize=(16,8))\n",
    "plt.plot(K, inertia, 'bx-')\n",
    "plt.xlabel('k')\n",
    "plt.ylabel('inertia')\n",
    "plt.xticks(np.arange(min(K), max(K)+1, 1.0))\n",
    "plt.title('Elbow Method showing the optimal k')#### 'Elbow method'"
   ]
  },
  {
   "cell_type": "markdown",
   "id": "27c9bbdf",
   "metadata": {},
   "source": [
    "#### 'Silhouette score'"
   ]
  },
  {
   "cell_type": "code",
   "execution_count": 101,
   "id": "10d2254a",
   "metadata": {},
   "outputs": [
    {
     "data": {
      "text/plain": [
       "Text(0.5, 1.0, 'Slhouette score showing the optimal k')"
      ]
     },
     "execution_count": 101,
     "metadata": {},
     "output_type": "execute_result"
    },
    {
     "data": {
      "image/png": "[encoded data removed]",
      "text/plain": [
       "<Figure size 1152x576 with 1 Axes>"
      ]
     },
     "metadata": {
      "needs_background": "light"
     },
     "output_type": "display_data"
    }
   ],
   "source": [
    "K = range(2, 20)\n",
    "silhouette = []\n",
    "\n",
    "for k in K:\n",
    "    kmeans = KMeans(n_clusters=k,\n",
    "                    random_state=1234)\n",
    "    kmeans.fit(normal_num)\n",
    "    silhouette.append(silhouette_score(scaled_num, kmeans.predict(scaled_num)))\n",
    "\n",
    "\n",
    "plt.figure(figsize=(16,8))\n",
    "plt.plot(K, silhouette, 'bx-')\n",
    "plt.xlabel('k')\n",
    "plt.ylabel('silhouette score')\n",
    "plt.xticks(np.arange(min(K), max(K)+1, 1.0))\n",
    "plt.title('Slhouette score showing the optimal k')"
   ]
  },
  {
   "cell_type": "markdown",
   "id": "1358dd28",
   "metadata": {},
   "source": [
    "After plotting, I decide to use the algorithm K-means: numerical values scaled with StandardScaler and 5 as a number of clusters."
   ]
  },
  {
   "cell_type": "code",
   "execution_count": 110,
   "id": "c147c7b7",
   "metadata": {},
   "outputs": [
    {
     "ename": "InvalidIndexError",
     "evalue": "(slice(None, None, None), 0)",
     "output_type": "error",
     "traceback": [
      "\u001b[1;31m---------------------------------------------------------------------------\u001b[0m",
      "\u001b[1;31mTypeError\u001b[0m                                 Traceback (most recent call last)",
      "File \u001b[1;32m~\\anaconda3\\lib\\site-packages\\pandas\\core\\indexes\\base.py:3621\u001b[0m, in \u001b[0;36mIndex.get_loc\u001b[1;34m(self, key, method, tolerance)\u001b[0m\n\u001b[0;32m   3620\u001b[0m \u001b[38;5;28;01mtry\u001b[39;00m:\n\u001b[1;32m-> 3621\u001b[0m     \u001b[38;5;28;01mreturn\u001b[39;00m \u001b[38;5;28;43mself\u001b[39;49m\u001b[38;5;241;43m.\u001b[39;49m\u001b[43m_engine\u001b[49m\u001b[38;5;241;43m.\u001b[39;49m\u001b[43mget_loc\u001b[49m\u001b[43m(\u001b[49m\u001b[43mcasted_key\u001b[49m\u001b[43m)\u001b[49m\n\u001b[0;32m   3622\u001b[0m \u001b[38;5;28;01mexcept\u001b[39;00m \u001b[38;5;167;01mKeyError\u001b[39;00m \u001b[38;5;28;01mas\u001b[39;00m err:\n",
      "File \u001b[1;32m~\\anaconda3\\lib\\site-packages\\pandas\\_libs\\index.pyx:136\u001b[0m, in \u001b[0;36mpandas._libs.index.IndexEngine.get_loc\u001b[1;34m()\u001b[0m\n",
      "File \u001b[1;32m~\\anaconda3\\lib\\site-packages\\pandas\\_libs\\index.pyx:142\u001b[0m, in \u001b[0;36mpandas._libs.index.IndexEngine.get_loc\u001b[1;34m()\u001b[0m\n",
      "\u001b[1;31mTypeError\u001b[0m: '(slice(None, None, None), 0)' is an invalid key",
      "\nDuring handling of the above exception, another exception occurred:\n",
      "\u001b[1;31mInvalidIndexError\u001b[0m                         Traceback (most recent call last)",
      "File \u001b[1;32m<timed exec>:7\u001b[0m, in \u001b[0;36m<module>\u001b[1;34m\u001b[0m\n",
      "File \u001b[1;32m~\\anaconda3\\lib\\site-packages\\pandas\\core\\frame.py:3505\u001b[0m, in \u001b[0;36mDataFrame.__getitem__\u001b[1;34m(self, key)\u001b[0m\n\u001b[0;32m   3503\u001b[0m \u001b[38;5;28;01mif\u001b[39;00m \u001b[38;5;28mself\u001b[39m\u001b[38;5;241m.\u001b[39mcolumns\u001b[38;5;241m.\u001b[39mnlevels \u001b[38;5;241m>\u001b[39m \u001b[38;5;241m1\u001b[39m:\n\u001b[0;32m   3504\u001b[0m     \u001b[38;5;28;01mreturn\u001b[39;00m \u001b[38;5;28mself\u001b[39m\u001b[38;5;241m.\u001b[39m_getitem_multilevel(key)\n\u001b[1;32m-> 3505\u001b[0m indexer \u001b[38;5;241m=\u001b[39m \u001b[38;5;28;43mself\u001b[39;49m\u001b[38;5;241;43m.\u001b[39;49m\u001b[43mcolumns\u001b[49m\u001b[38;5;241;43m.\u001b[39;49m\u001b[43mget_loc\u001b[49m\u001b[43m(\u001b[49m\u001b[43mkey\u001b[49m\u001b[43m)\u001b[49m\n\u001b[0;32m   3506\u001b[0m \u001b[38;5;28;01mif\u001b[39;00m is_integer(indexer):\n\u001b[0;32m   3507\u001b[0m     indexer \u001b[38;5;241m=\u001b[39m [indexer]\n",
      "File \u001b[1;32m~\\anaconda3\\lib\\site-packages\\pandas\\core\\indexes\\base.py:3628\u001b[0m, in \u001b[0;36mIndex.get_loc\u001b[1;34m(self, key, method, tolerance)\u001b[0m\n\u001b[0;32m   3623\u001b[0m         \u001b[38;5;28;01mraise\u001b[39;00m \u001b[38;5;167;01mKeyError\u001b[39;00m(key) \u001b[38;5;28;01mfrom\u001b[39;00m \u001b[38;5;21;01merr\u001b[39;00m\n\u001b[0;32m   3624\u001b[0m     \u001b[38;5;28;01mexcept\u001b[39;00m \u001b[38;5;167;01mTypeError\u001b[39;00m:\n\u001b[0;32m   3625\u001b[0m         \u001b[38;5;66;03m# If we have a listlike key, _check_indexing_error will raise\u001b[39;00m\n\u001b[0;32m   3626\u001b[0m         \u001b[38;5;66;03m#  InvalidIndexError. Otherwise we fall through and re-raise\u001b[39;00m\n\u001b[0;32m   3627\u001b[0m         \u001b[38;5;66;03m#  the TypeError.\u001b[39;00m\n\u001b[1;32m-> 3628\u001b[0m         \u001b[38;5;28;43mself\u001b[39;49m\u001b[38;5;241;43m.\u001b[39;49m\u001b[43m_check_indexing_error\u001b[49m\u001b[43m(\u001b[49m\u001b[43mkey\u001b[49m\u001b[43m)\u001b[49m\n\u001b[0;32m   3629\u001b[0m         \u001b[38;5;28;01mraise\u001b[39;00m\n\u001b[0;32m   3631\u001b[0m \u001b[38;5;66;03m# GH#42269\u001b[39;00m\n",
      "File \u001b[1;32m~\\anaconda3\\lib\\site-packages\\pandas\\core\\indexes\\base.py:5637\u001b[0m, in \u001b[0;36mIndex._check_indexing_error\u001b[1;34m(self, key)\u001b[0m\n\u001b[0;32m   5633\u001b[0m \u001b[38;5;28;01mdef\u001b[39;00m \u001b[38;5;21m_check_indexing_error\u001b[39m(\u001b[38;5;28mself\u001b[39m, key):\n\u001b[0;32m   5634\u001b[0m     \u001b[38;5;28;01mif\u001b[39;00m \u001b[38;5;129;01mnot\u001b[39;00m is_scalar(key):\n\u001b[0;32m   5635\u001b[0m         \u001b[38;5;66;03m# if key is not a scalar, directly raise an error (the code below\u001b[39;00m\n\u001b[0;32m   5636\u001b[0m         \u001b[38;5;66;03m# would convert to numpy arrays and raise later any way) - GH29926\u001b[39;00m\n\u001b[1;32m-> 5637\u001b[0m         \u001b[38;5;28;01mraise\u001b[39;00m InvalidIndexError(key)\n",
      "\u001b[1;31mInvalidIndexError\u001b[0m: (slice(None, None, None), 0)"
     ]
    },
    {
     "data": {
      "text/plain": [
       "<Figure size 360x360 with 0 Axes>"
      ]
     },
     "metadata": {},
     "output_type": "display_data"
    }
   ],
   "source": [
    "## Got stuck here. Will continue tomorrow. \n",
    "\n",
    "\n",
    "%%time\n",
    "from sklearn import cluster\n",
    "kmeans = cluster.KMeans(n_clusters=5)\n",
    "kmeans.fit(scaled_num)\n",
    "pred = kmeans.predict(scaled_num)\n",
    "\n",
    "plt.figure(figsize=(5, 5))\n",
    "plt.scatter(scaled_num[:, 0], scaled_num[:, 1], c=pred,alpha=0.5)\n",
    "plt.show()"
   ]
  }
 ],
 "metadata": {
  "kernelspec": {
   "display_name": "Python 3 (ipykernel)",
   "language": "python",
   "name": "python3"
  },
  "language_info": {
   "codemirror_mode": {
    "name": "ipython",
    "version": 3
   },
   "file_extension": ".py",
   "mimetype": "text/x-python",
   "name": "python",
   "nbconvert_exporter": "python",
   "pygments_lexer": "ipython3",
   "version": "3.9.12"
  }
 },
 "nbformat": 4,
 "nbformat_minor": 5
}
