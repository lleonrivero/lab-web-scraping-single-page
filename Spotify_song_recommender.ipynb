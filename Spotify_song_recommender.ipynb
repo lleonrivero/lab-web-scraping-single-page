{
 "cells": [
  {
   "cell_type": "code",
   "execution_count": 1,
   "id": "36d4d55e",
   "metadata": {},
   "outputs": [],
   "source": [
    "import spotipy\n",
    "from spotipy.oauth2 import SpotifyClientCredentials"
   ]
  },
  {
   "cell_type": "code",
   "execution_count": 2,
   "id": "a8d2bc46",
   "metadata": {},
   "outputs": [],
   "source": [
    "# Storing 'id' and 'secret' in txt file to hide it from rest of users when publishing the notebook.\n",
    "secrets_file = open(\"secrets.txt\",\"r\")"
   ]
  },
  {
   "cell_type": "code",
   "execution_count": 3,
   "id": "d52de6d5",
   "metadata": {},
   "outputs": [],
   "source": [
    "string = secrets_file.read()"
   ]
  },
  {
   "cell_type": "code",
   "execution_count": 4,
   "id": "425630cc",
   "metadata": {},
   "outputs": [
    {
     "data": {
      "text/plain": [
       "'cid:cad27f8cb5d7437fb2c92239d931b29c\\ncsecret:a067c0d3dded412c94a4c95c5dff00f4'"
      ]
     },
     "execution_count": 4,
     "metadata": {},
     "output_type": "execute_result"
    }
   ],
   "source": [
    "# Not to be published: just for academic purposes.\n",
    "string"
   ]
  },
  {
   "cell_type": "code",
   "execution_count": 5,
   "id": "4ed1958d",
   "metadata": {},
   "outputs": [
    {
     "data": {
      "text/plain": [
       "['cid:cad27f8cb5d7437fb2c92239d931b29c',\n",
       " 'csecret:a067c0d3dded412c94a4c95c5dff00f4']"
      ]
     },
     "execution_count": 5,
     "metadata": {},
     "output_type": "execute_result"
    }
   ],
   "source": [
    "# Not to be published: just for academic purposes.\n",
    "string.split('\\n')"
   ]
  },
  {
   "cell_type": "code",
   "execution_count": 8,
   "id": "8fbdf84d",
   "metadata": {},
   "outputs": [],
   "source": [
    "# Creating a dictionary to read from it when accessing Spotify using Spotipy\n",
    "secrets_dict={}\n",
    "for line in string.split('\\n'):\n",
    "    if len(line) > 0:\n",
    "        secrets_dict[line.split(':')[0]]=line.split(':')[1]"
   ]
  },
  {
   "cell_type": "code",
   "execution_count": 9,
   "id": "c1da0c6c",
   "metadata": {},
   "outputs": [
    {
     "data": {
      "text/plain": [
       "{'cid': 'cad27f8cb5d7437fb2c92239d931b29c',\n",
       " 'csecret': 'a067c0d3dded412c94a4c95c5dff00f4'}"
      ]
     },
     "execution_count": 9,
     "metadata": {},
     "output_type": "execute_result"
    }
   ],
   "source": [
    "# Not to be published: just for academic purposes.\n",
    "secrets_dict"
   ]
  },
  {
   "cell_type": "code",
   "execution_count": 10,
   "id": "77dfff4c",
   "metadata": {},
   "outputs": [],
   "source": [
    "#Initialize SpotiPy with user credentials\n",
    "sp = spotipy.Spotify(auth_manager=SpotifyClientCredentials(client_id=secrets_dict['cid'],\n",
    "                                                           client_secret=secrets_dict['csecret']))"
   ]
  },
  {
   "cell_type": "markdown",
   "id": "b89d3e10",
   "metadata": {},
   "source": [
    "# Playlists"
   ]
  },
  {
   "cell_type": "markdown",
   "id": "88449f15",
   "metadata": {},
   "source": [
    "### Playlist 1"
   ]
  },
  {
   "cell_type": "code",
   "execution_count": 30,
   "id": "f03fcea5",
   "metadata": {},
   "outputs": [],
   "source": [
    "from random import randint\n",
    "from time import sleep\n",
    "\n",
    "def get_playlist_tracks(playlist_id):\n",
    "    results = sp.user_playlist_tracks(\"spotify\",playlist_id)\n",
    "    tracks = results['items']\n",
    "    while results['next']!=None:\n",
    "        results = sp.next(results)\n",
    "        tracks = tracks + results['items']\n",
    "        sleep(randint(1,3))\n",
    "    return tracks"
   ]
  },
  {
   "cell_type": "code",
   "execution_count": 31,
   "id": "06f5f24a",
   "metadata": {},
   "outputs": [
    {
     "data": {
      "text/plain": [
       "1200"
      ]
     },
     "execution_count": 31,
     "metadata": {},
     "output_type": "execute_result"
    }
   ],
   "source": [
    "playlist1 = get_playlist_tracks(\"5Q7JPVmkNBFbPF5QVJFLds\")\n",
    "len(playlist1)"
   ]
  },
  {
   "cell_type": "code",
   "execution_count": 45,
   "id": "2569b0ba",
   "metadata": {},
   "outputs": [
    {
     "data": {
      "text/plain": [
       "6969"
      ]
     },
     "execution_count": 45,
     "metadata": {},
     "output_type": "execute_result"
    }
   ],
   "source": [
    "playlist2 = get_playlist_tracks(\"4lTcPloX9vRUWcJ3RGZaUC\")\n",
    "len(playlist2)"
   ]
  },
  {
   "cell_type": "code",
   "execution_count": 46,
   "id": "f0851ff3",
   "metadata": {},
   "outputs": [
    {
     "data": {
      "text/plain": [
       "4007"
      ]
     },
     "execution_count": 46,
     "metadata": {},
     "output_type": "execute_result"
    }
   ],
   "source": [
    "playlist3 = get_playlist_tracks(\"6ZlFKcTzJVslgjudScTX4G\")\n",
    "len(playlist3)"
   ]
  },
  {
   "cell_type": "code",
   "execution_count": 47,
   "id": "71abba4c",
   "metadata": {},
   "outputs": [
    {
     "data": {
      "text/plain": [
       "119"
      ]
     },
     "execution_count": 47,
     "metadata": {},
     "output_type": "execute_result"
    }
   ],
   "source": [
    "playlist4 = get_playlist_tracks(\"1ukPyCwTQZ3O9v1gPWVQz4\")\n",
    "len(playlist4)"
   ]
  },
  {
   "cell_type": "code",
   "execution_count": 48,
   "id": "c6c2a57b",
   "metadata": {},
   "outputs": [
    {
     "data": {
      "text/plain": [
       "589"
      ]
     },
     "execution_count": 48,
     "metadata": {},
     "output_type": "execute_result"
    }
   ],
   "source": [
    "playlist5 = get_playlist_tracks(\"5K1ZnbYaYBIwof9UytdaMO\")\n",
    "len(playlist5)"
   ]
  },
  {
   "cell_type": "code",
   "execution_count": 49,
   "id": "b641f604",
   "metadata": {},
   "outputs": [
    {
     "data": {
      "text/plain": [
       "646"
      ]
     },
     "execution_count": 49,
     "metadata": {},
     "output_type": "execute_result"
    }
   ],
   "source": [
    "playlist6 = get_playlist_tracks(\"3ZA4Q3cDjwcac2gdCewej8\")\n",
    "len(playlist6)"
   ]
  },
  {
   "cell_type": "code",
   "execution_count": 50,
   "id": "9b7d32f5",
   "metadata": {},
   "outputs": [
    {
     "data": {
      "text/plain": [
       "2167"
      ]
     },
     "execution_count": 50,
     "metadata": {},
     "output_type": "execute_result"
    }
   ],
   "source": [
    "playlist7 = get_playlist_tracks(\"5bZOu1Yz2Xsd3ZB2HFumrv\")\n",
    "len(playlist7)"
   ]
  },
  {
   "cell_type": "code",
   "execution_count": 51,
   "id": "7f96d765",
   "metadata": {},
   "outputs": [
    {
     "data": {
      "text/plain": [
       "5295"
      ]
     },
     "execution_count": 51,
     "metadata": {},
     "output_type": "execute_result"
    }
   ],
   "source": [
    "playlist8 = get_playlist_tracks(\"4rnleEAOdmFAbRcNCgZMpY\")\n",
    "len(playlist8)"
   ]
  },
  {
   "cell_type": "code",
   "execution_count": 52,
   "id": "56cca20e",
   "metadata": {},
   "outputs": [
    {
     "data": {
      "text/plain": [
       "3210"
      ]
     },
     "execution_count": 52,
     "metadata": {},
     "output_type": "execute_result"
    }
   ],
   "source": [
    "playlist9 = get_playlist_tracks(\"1TdTz1c9jp0fB4s4ZRgtV3\")\n",
    "len(playlist9)"
   ]
  },
  {
   "cell_type": "code",
   "execution_count": 54,
   "id": "bca84974",
   "metadata": {},
   "outputs": [
    {
     "data": {
      "text/plain": [
       "7413"
      ]
     },
     "execution_count": 54,
     "metadata": {},
     "output_type": "execute_result"
    }
   ],
   "source": [
    "playlist10 = get_playlist_tracks(\"0twlW4iDRhKXAJPopD8PP0\")\n",
    "len(playlist10)"
   ]
  }
 ],
 "metadata": {
  "kernelspec": {
   "display_name": "Python 3 (ipykernel)",
   "language": "python",
   "name": "python3"
  },
  "language_info": {
   "codemirror_mode": {
    "name": "ipython",
    "version": 3
   },
   "file_extension": ".py",
   "mimetype": "text/x-python",
   "name": "python",
   "nbconvert_exporter": "python",
   "pygments_lexer": "ipython3",
   "version": "3.9.12"
  }
 },
 "nbformat": 4,
 "nbformat_minor": 5
}
